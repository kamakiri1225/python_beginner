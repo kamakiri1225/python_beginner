{
 "cells": [
  {
   "cell_type": "code",
   "execution_count": 1,
   "id": "earlier-generation",
   "metadata": {},
   "outputs": [],
   "source": [
    "#整数型\n",
    "a = 5\n",
    "b = 5"
   ]
  },
  {
   "cell_type": "code",
   "execution_count": 2,
   "id": "growing-antenna",
   "metadata": {},
   "outputs": [
    {
     "data": {
      "text/plain": [
       "int"
      ]
     },
     "execution_count": 2,
     "metadata": {},
     "output_type": "execute_result"
    }
   ],
   "source": [
    "type(a)"
   ]
  },
  {
   "cell_type": "code",
   "execution_count": 3,
   "id": "cathedral-imaging",
   "metadata": {},
   "outputs": [
    {
     "data": {
      "text/plain": [
       "int"
      ]
     },
     "execution_count": 3,
     "metadata": {},
     "output_type": "execute_result"
    }
   ],
   "source": [
    "type(b)"
   ]
  },
  {
   "cell_type": "code",
   "execution_count": 4,
   "id": "enabling-bernard",
   "metadata": {},
   "outputs": [],
   "source": [
    "#浮動小数点型\n",
    "c = 5.5"
   ]
  },
  {
   "cell_type": "code",
   "execution_count": 5,
   "id": "alike-spoke",
   "metadata": {},
   "outputs": [
    {
     "data": {
      "text/plain": [
       "float"
      ]
     },
     "execution_count": 5,
     "metadata": {},
     "output_type": "execute_result"
    }
   ],
   "source": [
    "type(c)"
   ]
  },
  {
   "cell_type": "code",
   "execution_count": 8,
   "id": "comparable-carrier",
   "metadata": {},
   "outputs": [
    {
     "data": {
      "text/plain": [
       "140703899653920"
      ]
     },
     "execution_count": 8,
     "metadata": {},
     "output_type": "execute_result"
    }
   ],
   "source": [
    "id(a)"
   ]
  },
  {
   "cell_type": "code",
   "execution_count": 9,
   "id": "graduate-mount",
   "metadata": {},
   "outputs": [
    {
     "data": {
      "text/plain": [
       "140703899653920"
      ]
     },
     "execution_count": 9,
     "metadata": {},
     "output_type": "execute_result"
    }
   ],
   "source": [
    "id(b)"
   ]
  },
  {
   "cell_type": "code",
   "execution_count": 17,
   "id": "composite-practice",
   "metadata": {},
   "outputs": [],
   "source": [
    "#浮動小数型\n",
    "a1 = 5.5\n",
    "b1 = 5.5"
   ]
  },
  {
   "cell_type": "code",
   "execution_count": 18,
   "id": "tough-aerospace",
   "metadata": {},
   "outputs": [
    {
     "data": {
      "text/plain": [
       "1829491955216"
      ]
     },
     "execution_count": 18,
     "metadata": {},
     "output_type": "execute_result"
    }
   ],
   "source": [
    "id(a1)"
   ]
  },
  {
   "cell_type": "code",
   "execution_count": 19,
   "id": "compound-sender",
   "metadata": {},
   "outputs": [
    {
     "data": {
      "text/plain": [
       "1829491955376"
      ]
     },
     "execution_count": 19,
     "metadata": {},
     "output_type": "execute_result"
    }
   ],
   "source": [
    "id(b1)"
   ]
  },
  {
   "cell_type": "code",
   "execution_count": 21,
   "id": "completed-coordination",
   "metadata": {},
   "outputs": [],
   "source": [
    "# 複素数型\n",
    "d = 5.0 +5j"
   ]
  },
  {
   "cell_type": "code",
   "execution_count": 22,
   "id": "unique-optimum",
   "metadata": {},
   "outputs": [
    {
     "data": {
      "text/plain": [
       "complex"
      ]
     },
     "execution_count": 22,
     "metadata": {},
     "output_type": "execute_result"
    }
   ],
   "source": [
    "type(d)"
   ]
  },
  {
   "cell_type": "code",
   "execution_count": 23,
   "id": "further-significance",
   "metadata": {},
   "outputs": [],
   "source": [
    "# 文字列\n",
    "e = 'イヌ'\n",
    "# e = \"イヌ\""
   ]
  },
  {
   "cell_type": "code",
   "execution_count": 24,
   "id": "beneficial-private",
   "metadata": {},
   "outputs": [
    {
     "data": {
      "text/plain": [
       "str"
      ]
     },
     "execution_count": 24,
     "metadata": {},
     "output_type": "execute_result"
    }
   ],
   "source": [
    "type(e)"
   ]
  },
  {
   "cell_type": "code",
   "execution_count": 25,
   "id": "auburn-dealer",
   "metadata": {},
   "outputs": [
    {
     "name": "stdout",
     "output_type": "stream",
     "text": [
      " \"ネコ\" \n"
     ]
    }
   ],
   "source": [
    "e1 = ' \"ネコ\" '\n",
    "print(e1)"
   ]
  },
  {
   "cell_type": "code",
   "execution_count": 26,
   "id": "charged-symphony",
   "metadata": {},
   "outputs": [
    {
     "name": "stdout",
     "output_type": "stream",
     "text": [
      " 'ネコ' \n"
     ]
    }
   ],
   "source": [
    "e2 = \" 'ネコ' \"\n",
    "print(e2)"
   ]
  },
  {
   "cell_type": "code",
   "execution_count": 30,
   "id": "norman-struggle",
   "metadata": {},
   "outputs": [
    {
     "name": "stdout",
     "output_type": "stream",
     "text": [
      "100000円\n"
     ]
    }
   ],
   "source": [
    "a = 100000\n",
    "\n",
    "#フォーマット文字列\n",
    "print(f'{a}円')"
   ]
  },
  {
   "cell_type": "code",
   "execution_count": 31,
   "id": "graphic-purpose",
   "metadata": {},
   "outputs": [
    {
     "name": "stdout",
     "output_type": "stream",
     "text": [
      "5000円\n"
     ]
    }
   ],
   "source": [
    "b = 5000\n",
    "#フォーマット文字列\n",
    "print('{}円'.format(b))"
   ]
  },
  {
   "cell_type": "code",
   "execution_count": 32,
   "id": "established-entity",
   "metadata": {},
   "outputs": [
    {
     "name": "stdout",
     "output_type": "stream",
     "text": [
      "5000円です\n"
     ]
    }
   ],
   "source": [
    "b = 5000\n",
    "c = 'です'\n",
    "\n",
    "#フォーマット文字列\n",
    "print('{}円{}'.format(b,c))"
   ]
  },
  {
   "cell_type": "code",
   "execution_count": 33,
   "id": "destroyed-valley",
   "metadata": {},
   "outputs": [
    {
     "name": "stdout",
     "output_type": "stream",
     "text": [
      "5000円です\n"
     ]
    }
   ],
   "source": [
    "b = 5000\n",
    "c = 'です'\n",
    "\n",
    "#フォーマット文字列\n",
    "print(f'{b}円{c}')"
   ]
  },
  {
   "cell_type": "code",
   "execution_count": 36,
   "id": "empty-there",
   "metadata": {},
   "outputs": [
    {
     "name": "stdout",
     "output_type": "stream",
     "text": [
      "15\n"
     ]
    }
   ],
   "source": [
    "# 整数型の足し算\n",
    "a = 5\n",
    "b = 10\n",
    "\n",
    "print(a+b)"
   ]
  },
  {
   "cell_type": "code",
   "execution_count": 37,
   "id": "positive-uncertainty",
   "metadata": {},
   "outputs": [
    {
     "data": {
      "text/plain": [
       "15"
      ]
     },
     "execution_count": 37,
     "metadata": {},
     "output_type": "execute_result"
    }
   ],
   "source": [
    "a+b"
   ]
  },
  {
   "cell_type": "code",
   "execution_count": 38,
   "id": "expected-military",
   "metadata": {},
   "outputs": [
    {
     "data": {
      "text/plain": [
       "int"
      ]
     },
     "execution_count": 38,
     "metadata": {},
     "output_type": "execute_result"
    }
   ],
   "source": [
    "type(a+b)"
   ]
  },
  {
   "cell_type": "code",
   "execution_count": 39,
   "id": "editorial-metro",
   "metadata": {},
   "outputs": [
    {
     "data": {
      "text/plain": [
       "15.0"
      ]
     },
     "execution_count": 39,
     "metadata": {},
     "output_type": "execute_result"
    }
   ],
   "source": [
    "a = 5.0\n",
    "b = 10\n",
    "\n",
    "a + b"
   ]
  },
  {
   "cell_type": "code",
   "execution_count": 40,
   "id": "apparent-scanner",
   "metadata": {},
   "outputs": [
    {
     "data": {
      "text/plain": [
       "float"
      ]
     },
     "execution_count": 40,
     "metadata": {},
     "output_type": "execute_result"
    }
   ],
   "source": [
    "type(a+b)"
   ]
  },
  {
   "cell_type": "code",
   "execution_count": 46,
   "id": "adverse-reality",
   "metadata": {},
   "outputs": [
    {
     "data": {
      "text/plain": [
       "(15+5j)"
      ]
     },
     "execution_count": 46,
     "metadata": {},
     "output_type": "execute_result"
    }
   ],
   "source": [
    "a = 10\n",
    "\n",
    "# jが虚数のi\n",
    "b = 5.0 + 5.0j \n",
    "\n",
    "a + b"
   ]
  },
  {
   "cell_type": "code",
   "execution_count": 47,
   "id": "informative-reducing",
   "metadata": {},
   "outputs": [
    {
     "data": {
      "text/plain": [
       "complex"
      ]
     },
     "execution_count": 47,
     "metadata": {},
     "output_type": "execute_result"
    }
   ],
   "source": [
    "type(a + b)"
   ]
  },
  {
   "cell_type": "code",
   "execution_count": 48,
   "id": "described-teaching",
   "metadata": {},
   "outputs": [
    {
     "ename": "TypeError",
     "evalue": "unsupported operand type(s) for +: 'int' and 'str'",
     "output_type": "error",
     "traceback": [
      "\u001b[1;31m---------------------------------------------------------------------------\u001b[0m",
      "\u001b[1;31mTypeError\u001b[0m                                 Traceback (most recent call last)",
      "\u001b[1;32m<ipython-input-48-459c0f617093>\u001b[0m in \u001b[0;36m<module>\u001b[1;34m\u001b[0m\n\u001b[0;32m      3\u001b[0m \u001b[0mb\u001b[0m \u001b[1;33m=\u001b[0m \u001b[1;34m'犬'\u001b[0m\u001b[1;33m\u001b[0m\u001b[1;33m\u001b[0m\u001b[0m\n\u001b[0;32m      4\u001b[0m \u001b[1;33m\u001b[0m\u001b[0m\n\u001b[1;32m----> 5\u001b[1;33m \u001b[0ma\u001b[0m \u001b[1;33m+\u001b[0m \u001b[0mb\u001b[0m\u001b[1;33m\u001b[0m\u001b[1;33m\u001b[0m\u001b[0m\n\u001b[0m",
      "\u001b[1;31mTypeError\u001b[0m: unsupported operand type(s) for +: 'int' and 'str'"
     ]
    }
   ],
   "source": [
    "a = 10\n",
    "\n",
    "b = '犬'\n",
    "\n",
    "a + b"
   ]
  },
  {
   "cell_type": "code",
   "execution_count": 49,
   "id": "fresh-sweden",
   "metadata": {},
   "outputs": [
    {
     "ename": "TypeError",
     "evalue": "unsupported operand type(s) for +: 'int' and 'str'",
     "output_type": "error",
     "traceback": [
      "\u001b[1;31m---------------------------------------------------------------------------\u001b[0m",
      "\u001b[1;31mTypeError\u001b[0m                                 Traceback (most recent call last)",
      "\u001b[1;32m<ipython-input-49-e66e24e0882e>\u001b[0m in \u001b[0;36m<module>\u001b[1;34m\u001b[0m\n\u001b[0;32m      3\u001b[0m \u001b[0mb\u001b[0m \u001b[1;33m=\u001b[0m \u001b[1;34m'100'\u001b[0m\u001b[1;33m\u001b[0m\u001b[1;33m\u001b[0m\u001b[0m\n\u001b[0;32m      4\u001b[0m \u001b[1;33m\u001b[0m\u001b[0m\n\u001b[1;32m----> 5\u001b[1;33m \u001b[0ma\u001b[0m \u001b[1;33m+\u001b[0m \u001b[0mb\u001b[0m\u001b[1;33m\u001b[0m\u001b[1;33m\u001b[0m\u001b[0m\n\u001b[0m",
      "\u001b[1;31mTypeError\u001b[0m: unsupported operand type(s) for +: 'int' and 'str'"
     ]
    }
   ],
   "source": [
    "a = 10\n",
    "\n",
    "b = '100'\n",
    "\n",
    "a + b"
   ]
  },
  {
   "cell_type": "code",
   "execution_count": 50,
   "id": "dynamic-syndrome",
   "metadata": {},
   "outputs": [
    {
     "data": {
      "text/plain": [
       "int"
      ]
     },
     "execution_count": 50,
     "metadata": {},
     "output_type": "execute_result"
    }
   ],
   "source": [
    "a = 5\n",
    "type(a)"
   ]
  },
  {
   "cell_type": "code",
   "execution_count": 51,
   "id": "classified-labor",
   "metadata": {},
   "outputs": [
    {
     "data": {
      "text/plain": [
       "5.0"
      ]
     },
     "execution_count": 51,
     "metadata": {},
     "output_type": "execute_result"
    }
   ],
   "source": [
    "float(a)"
   ]
  },
  {
   "cell_type": "code",
   "execution_count": 52,
   "id": "hourly-request",
   "metadata": {},
   "outputs": [
    {
     "data": {
      "text/plain": [
       "5.0"
      ]
     },
     "execution_count": 52,
     "metadata": {},
     "output_type": "execute_result"
    }
   ],
   "source": [
    "b = float(a)\n",
    "b"
   ]
  },
  {
   "cell_type": "code",
   "execution_count": 53,
   "id": "sudden-movie",
   "metadata": {},
   "outputs": [
    {
     "data": {
      "text/plain": [
       "float"
      ]
     },
     "execution_count": 53,
     "metadata": {},
     "output_type": "execute_result"
    }
   ],
   "source": [
    "type(b)"
   ]
  },
  {
   "cell_type": "code",
   "execution_count": 59,
   "id": "funny-front",
   "metadata": {},
   "outputs": [
    {
     "name": "stdout",
     "output_type": "stream",
     "text": [
      "5 :: <class 'int'>\n",
      "5.0 :: <class 'float'>\n"
     ]
    }
   ],
   "source": [
    "a = 5\n",
    "\n",
    "# 整数型から浮動小数点型に変える関数\n",
    "b = float(a)\n",
    "\n",
    "print(a, '::',type(a))\n",
    "print(b, '::' ,type(b))"
   ]
  },
  {
   "cell_type": "code",
   "execution_count": 63,
   "id": "contained-gravity",
   "metadata": {},
   "outputs": [
    {
     "name": "stdout",
     "output_type": "stream",
     "text": [
      "5.8 --- <class 'float'>\n",
      "5 --- <class 'int'>\n"
     ]
    }
   ],
   "source": [
    "# 浮動小数点型から整数型に変える関数\n",
    "\n",
    "a = 5.8\n",
    "b = int(a)\n",
    "\n",
    "print(a,'---' ,type(a))\n",
    "print(b, '---', type(b))"
   ]
  },
  {
   "cell_type": "code",
   "execution_count": 64,
   "id": "norman-course",
   "metadata": {},
   "outputs": [
    {
     "name": "stdout",
     "output_type": "stream",
     "text": [
      "50 <class 'int'>\n",
      "50 <class 'str'>\n"
     ]
    }
   ],
   "source": [
    "# 整数型から文字列へ変える関数\n",
    "\n",
    "a = 50\n",
    "b = str(a)\n",
    "\n",
    "print(a, type(a))\n",
    "print(b, type(b))"
   ]
  },
  {
   "cell_type": "code",
   "execution_count": 67,
   "id": "considered-printer",
   "metadata": {},
   "outputs": [
    {
     "data": {
      "text/plain": [
       "54"
      ]
     },
     "execution_count": 67,
     "metadata": {},
     "output_type": "execute_result"
    }
   ],
   "source": [
    "a = 50\n",
    "b = 4\n",
    "\n",
    "a + b"
   ]
  },
  {
   "cell_type": "code",
   "execution_count": 71,
   "id": "desperate-magazine",
   "metadata": {},
   "outputs": [
    {
     "data": {
      "text/plain": [
       "int"
      ]
     },
     "execution_count": 71,
     "metadata": {},
     "output_type": "execute_result"
    }
   ],
   "source": [
    "type(a + b)"
   ]
  },
  {
   "cell_type": "code",
   "execution_count": 68,
   "id": "balanced-nursing",
   "metadata": {},
   "outputs": [
    {
     "data": {
      "text/plain": [
       "46"
      ]
     },
     "execution_count": 68,
     "metadata": {},
     "output_type": "execute_result"
    }
   ],
   "source": [
    "a = 50\n",
    "b = 4\n",
    "\n",
    "a - b"
   ]
  },
  {
   "cell_type": "code",
   "execution_count": 85,
   "id": "demonstrated-consortium",
   "metadata": {},
   "outputs": [
    {
     "data": {
      "text/plain": [
       "int"
      ]
     },
     "execution_count": 85,
     "metadata": {},
     "output_type": "execute_result"
    }
   ],
   "source": [
    "type(a - b)"
   ]
  },
  {
   "cell_type": "code",
   "execution_count": 69,
   "id": "cardiac-restaurant",
   "metadata": {},
   "outputs": [
    {
     "data": {
      "text/plain": [
       "200"
      ]
     },
     "execution_count": 69,
     "metadata": {},
     "output_type": "execute_result"
    }
   ],
   "source": [
    "a = 50\n",
    "b = 4\n",
    "\n",
    "a * b"
   ]
  },
  {
   "cell_type": "code",
   "execution_count": 84,
   "id": "transsexual-introduction",
   "metadata": {},
   "outputs": [
    {
     "data": {
      "text/plain": [
       "int"
      ]
     },
     "execution_count": 84,
     "metadata": {},
     "output_type": "execute_result"
    }
   ],
   "source": [
    "type(a * b)"
   ]
  },
  {
   "cell_type": "code",
   "execution_count": 87,
   "id": "written-ballet",
   "metadata": {},
   "outputs": [
    {
     "data": {
      "text/plain": [
       "25.0"
      ]
     },
     "execution_count": 87,
     "metadata": {},
     "output_type": "execute_result"
    }
   ],
   "source": [
    "a = 50\n",
    "b = 2\n",
    "\n",
    "a / b"
   ]
  },
  {
   "cell_type": "code",
   "execution_count": 88,
   "id": "technological-insurance",
   "metadata": {},
   "outputs": [
    {
     "data": {
      "text/plain": [
       "float"
      ]
     },
     "execution_count": 88,
     "metadata": {},
     "output_type": "execute_result"
    }
   ],
   "source": [
    "type(a / b)"
   ]
  },
  {
   "cell_type": "code",
   "execution_count": 91,
   "id": "faced-registration",
   "metadata": {},
   "outputs": [
    {
     "data": {
      "text/plain": [
       "12"
      ]
     },
     "execution_count": 91,
     "metadata": {},
     "output_type": "execute_result"
    }
   ],
   "source": [
    "# 商を出す演算子\n",
    "\n",
    "a = 50\n",
    "b = 4\n",
    "\n",
    "# 50÷4 = 12あまり2\n",
    "\n",
    "a//b"
   ]
  },
  {
   "cell_type": "code",
   "execution_count": 92,
   "id": "superb-marine",
   "metadata": {},
   "outputs": [
    {
     "data": {
      "text/plain": [
       "int"
      ]
     },
     "execution_count": 92,
     "metadata": {},
     "output_type": "execute_result"
    }
   ],
   "source": [
    "type(a//b)"
   ]
  },
  {
   "cell_type": "code",
   "execution_count": 93,
   "id": "removed-carol",
   "metadata": {},
   "outputs": [
    {
     "data": {
      "text/plain": [
       "2"
      ]
     },
     "execution_count": 93,
     "metadata": {},
     "output_type": "execute_result"
    }
   ],
   "source": [
    "# あまりを出すとき\n",
    "a = 50\n",
    "b = 4\n",
    "\n",
    "a % b"
   ]
  },
  {
   "cell_type": "code",
   "execution_count": 94,
   "id": "sacred-bracelet",
   "metadata": {},
   "outputs": [
    {
     "data": {
      "text/plain": [
       "int"
      ]
     },
     "execution_count": 94,
     "metadata": {},
     "output_type": "execute_result"
    }
   ],
   "source": [
    "type(a % b)"
   ]
  },
  {
   "cell_type": "code",
   "execution_count": 99,
   "id": "agreed-registration",
   "metadata": {},
   "outputs": [
    {
     "name": "stdout",
     "output_type": "stream",
     "text": [
      "イヌイヌイヌイヌイヌイヌイヌイヌイヌイヌネコ10\n"
     ]
    }
   ],
   "source": [
    "a = 'イヌ'\n",
    "b = 'ネコ'\n",
    "c = 10\n",
    "\n",
    "print(a*10 + b + str(c))"
   ]
  },
  {
   "cell_type": "code",
   "execution_count": 103,
   "id": "black-biodiversity",
   "metadata": {},
   "outputs": [
    {
     "name": "stdout",
     "output_type": "stream",
     "text": [
      "1\n",
      "2\n"
     ]
    }
   ],
   "source": [
    "print(1)\n",
    "print(2)"
   ]
  },
  {
   "cell_type": "code",
   "execution_count": 105,
   "id": "likely-cathedral",
   "metadata": {},
   "outputs": [
    {
     "name": "stdout",
     "output_type": "stream",
     "text": [
      "0\n",
      "----------\n",
      "1\n",
      "----------\n",
      "2\n",
      "----------\n",
      "3\n",
      "----------\n",
      "4\n",
      "----------\n",
      "5\n",
      "----------\n",
      "6\n",
      "----------\n",
      "7\n",
      "----------\n",
      "8\n",
      "----------\n",
      "9\n",
      "----------\n",
      "10\n",
      "----------\n",
      "11\n",
      "----------\n",
      "12\n",
      "----------\n",
      "13\n",
      "----------\n",
      "14\n",
      "----------\n",
      "15\n",
      "----------\n",
      "16\n",
      "----------\n",
      "17\n",
      "----------\n",
      "18\n",
      "----------\n",
      "19\n",
      "----------\n",
      "20\n",
      "----------\n",
      "21\n",
      "----------\n",
      "22\n",
      "----------\n",
      "23\n",
      "----------\n",
      "24\n",
      "----------\n",
      "25\n",
      "----------\n",
      "26\n",
      "----------\n",
      "27\n",
      "----------\n",
      "28\n",
      "----------\n",
      "29\n",
      "----------\n",
      "30\n",
      "----------\n",
      "31\n",
      "----------\n",
      "32\n",
      "----------\n",
      "33\n",
      "----------\n",
      "34\n",
      "----------\n",
      "35\n",
      "----------\n",
      "36\n",
      "----------\n",
      "37\n",
      "----------\n",
      "38\n",
      "----------\n",
      "39\n",
      "----------\n",
      "40\n",
      "----------\n",
      "41\n",
      "----------\n",
      "42\n",
      "----------\n",
      "43\n",
      "----------\n",
      "44\n",
      "----------\n",
      "45\n",
      "----------\n",
      "46\n",
      "----------\n",
      "47\n",
      "----------\n",
      "48\n",
      "----------\n",
      "49\n",
      "----------\n",
      "50\n",
      "----------\n",
      "51\n",
      "----------\n",
      "52\n",
      "----------\n",
      "53\n",
      "----------\n",
      "54\n",
      "----------\n",
      "55\n",
      "----------\n",
      "56\n",
      "----------\n",
      "57\n",
      "----------\n",
      "58\n",
      "----------\n",
      "59\n",
      "----------\n",
      "60\n",
      "----------\n",
      "61\n",
      "----------\n",
      "62\n",
      "----------\n",
      "63\n",
      "----------\n",
      "64\n",
      "----------\n",
      "65\n",
      "----------\n",
      "66\n",
      "----------\n",
      "67\n",
      "----------\n",
      "68\n",
      "----------\n",
      "69\n",
      "----------\n",
      "70\n",
      "----------\n",
      "71\n",
      "----------\n",
      "72\n",
      "----------\n",
      "73\n",
      "----------\n",
      "74\n",
      "----------\n",
      "75\n",
      "----------\n",
      "76\n",
      "----------\n",
      "77\n",
      "----------\n",
      "78\n",
      "----------\n",
      "79\n",
      "----------\n",
      "80\n",
      "----------\n",
      "81\n",
      "----------\n",
      "82\n",
      "----------\n",
      "83\n",
      "----------\n",
      "84\n",
      "----------\n",
      "85\n",
      "----------\n",
      "86\n",
      "----------\n",
      "87\n",
      "----------\n",
      "88\n",
      "----------\n",
      "89\n",
      "----------\n",
      "90\n",
      "----------\n",
      "91\n",
      "----------\n",
      "92\n",
      "----------\n",
      "93\n",
      "----------\n",
      "94\n",
      "----------\n",
      "95\n",
      "----------\n",
      "96\n",
      "----------\n",
      "97\n",
      "----------\n",
      "98\n",
      "----------\n",
      "99\n",
      "----------\n"
     ]
    }
   ],
   "source": [
    "for i in range(100):\n",
    "    print(i)\n",
    "    print('-'*10)"
   ]
  },
  {
   "cell_type": "code",
   "execution_count": null,
   "id": "fifteen-maple",
   "metadata": {},
   "outputs": [],
   "source": [
    "a = [1, 2 ,3, 5]"
   ]
  },
  {
   "cell_type": "markdown",
   "id": "hourly-oracle",
   "metadata": {},
   "source": [
    "# リスト型"
   ]
  },
  {
   "cell_type": "code",
   "execution_count": 1,
   "id": "armed-brand",
   "metadata": {},
   "outputs": [],
   "source": [
    "a = [1, 2, 3, 4, 5]\n",
    "b = [1, 'aaaaaa', 32]"
   ]
  },
  {
   "cell_type": "code",
   "execution_count": 5,
   "id": "abroad-replica",
   "metadata": {},
   "outputs": [
    {
     "name": "stdout",
     "output_type": "stream",
     "text": [
      "[1, 2, 3, 4, 5] <class 'list'>\n",
      "[1, 'kamakiri', 32] <class 'list'>\n"
     ]
    }
   ],
   "source": [
    "print(a, type(a))\n",
    "print(b, type(b))"
   ]
  },
  {
   "cell_type": "code",
   "execution_count": 7,
   "id": "durable-panama",
   "metadata": {},
   "outputs": [
    {
     "name": "stdout",
     "output_type": "stream",
     "text": [
      "[[1, 2, 3], ['kamakiri', 'apple']]\n"
     ]
    }
   ],
   "source": [
    "# リストの中にリストを入れる。\n",
    "list_ = [\n",
    "    [1,2,3],\n",
    "    ['aaaaaa', 'apple']\n",
    "]\n",
    "\n",
    "print(list_)"
   ]
  },
  {
   "cell_type": "code",
   "execution_count": 8,
   "id": "standard-arlington",
   "metadata": {},
   "outputs": [
    {
     "data": {
      "text/plain": [
       "[[1, 2, 3], ['kamakiri', 'apple']]"
      ]
     },
     "execution_count": 8,
     "metadata": {},
     "output_type": "execute_result"
    }
   ],
   "source": [
    "list_"
   ]
  },
  {
   "cell_type": "code",
   "execution_count": 11,
   "id": "welcome-aquarium",
   "metadata": {},
   "outputs": [
    {
     "name": "stdout",
     "output_type": "stream",
     "text": [
      "1\n",
      "kamakiri\n",
      "32\n"
     ]
    }
   ],
   "source": [
    "b = [1, 'aaaaaa', 32]\n",
    "\n",
    "print(b[0])\n",
    "print(b[1])\n",
    "print(b[2])"
   ]
  },
  {
   "cell_type": "markdown",
   "id": "detailed-stationery",
   "metadata": {},
   "source": [
    "# スライス"
   ]
  },
  {
   "cell_type": "code",
   "execution_count": 25,
   "id": "chinese-startup",
   "metadata": {},
   "outputs": [
    {
     "name": "stdout",
     "output_type": "stream",
     "text": [
      "[1, 2, 3, 4, 5, 6, 7, 8]\n"
     ]
    }
   ],
   "source": [
    "a = [1, 2, 3, 4, 5, 6, 7, 8, 9, 10]\n",
    "\n",
    "print(a[0:8])"
   ]
  },
  {
   "cell_type": "code",
   "execution_count": 27,
   "id": "rolled-asset",
   "metadata": {},
   "outputs": [
    {
     "name": "stdout",
     "output_type": "stream",
     "text": [
      "[1, 4, 7]\n"
     ]
    }
   ],
   "source": [
    "a = [1, 2, 3, 4, 5, 6, 7, 8, 9, 10]\n",
    "\n",
    "print(a[0:8:3])"
   ]
  },
  {
   "cell_type": "code",
   "execution_count": 30,
   "id": "voluntary-visibility",
   "metadata": {},
   "outputs": [
    {
     "name": "stdout",
     "output_type": "stream",
     "text": [
      "[1, 2, 3, 4, 5, 6, 7, 8]\n"
     ]
    }
   ],
   "source": [
    "a = [1, 2, 3, 4, 5, 6, 7, 8, 9, 10]\n",
    "\n",
    "print(a[:-2])"
   ]
  },
  {
   "cell_type": "markdown",
   "id": "innocent-testament",
   "metadata": {},
   "source": [
    "# 要素の追加\n"
   ]
  },
  {
   "cell_type": "code",
   "execution_count": 33,
   "id": "reasonable-newark",
   "metadata": {},
   "outputs": [
    {
     "name": "stdout",
     "output_type": "stream",
     "text": [
      "[1, 2, 3, 4, 5]\n",
      "[1, 2, 3, 4, 5, 6, 7, 8]\n"
     ]
    }
   ],
   "source": [
    "a = [1, 2, 3, 4, 5]\n",
    "\n",
    "print(a)\n",
    "\n",
    "a.append(6)\n",
    "a.append(7)\n",
    "a.append(8)\n",
    "\n",
    "print(a)"
   ]
  },
  {
   "cell_type": "code",
   "execution_count": null,
   "id": "lucky-occurrence",
   "metadata": {},
   "outputs": [],
   "source": [
    "# 関数\n",
    "print(a)\n",
    "\n",
    "# メソッド\n",
    "a.append()"
   ]
  },
  {
   "cell_type": "code",
   "execution_count": 44,
   "id": "adverse-andorra",
   "metadata": {},
   "outputs": [
    {
     "name": "stdout",
     "output_type": "stream",
     "text": [
      "空のリスト作成: []\n",
      "0\n",
      "最終状態： [0]\n",
      "1\n",
      "最終状態： [0, 1]\n",
      "2\n",
      "最終状態： [0, 1, 2]\n",
      "3\n",
      "最終状態： [0, 1, 2, 3]\n",
      "4\n",
      "最終状態： [0, 1, 2, 3, 4]\n",
      "5\n",
      "最終状態： [0, 1, 2, 3, 4, 5]\n",
      "6\n",
      "最終状態： [0, 1, 2, 3, 4, 5, 6]\n",
      "7\n",
      "最終状態： [0, 1, 2, 3, 4, 5, 6, 7]\n",
      "8\n",
      "最終状態： [0, 1, 2, 3, 4, 5, 6, 7, 8]\n",
      "9\n",
      "最終状態： [0, 1, 2, 3, 4, 5, 6, 7, 8, 9]\n"
     ]
    }
   ],
   "source": [
    "d = []\n",
    "\n",
    "print('空のリスト作成:',d)\n",
    "\n",
    "for i in range(10):\n",
    "    print(i)\n",
    "    d.append(i)\n",
    "    print('最終状態：',d)"
   ]
  },
  {
   "cell_type": "markdown",
   "id": "accredited-canada",
   "metadata": {},
   "source": [
    "# リストの要素の削除"
   ]
  },
  {
   "cell_type": "code",
   "execution_count": 48,
   "id": "average-priest",
   "metadata": {},
   "outputs": [
    {
     "name": "stdout",
     "output_type": "stream",
     "text": [
      "[1, 2, 3, 4, 5, 6, 7, 8, 100]\n",
      "[1, 2, 3, 4, 5, 6, 7, 8]\n"
     ]
    }
   ],
   "source": [
    "a = [1, 2, 3, 4, 5, 6, 7, 8, 100]\n",
    "\n",
    "print(a)\n",
    "\n",
    "a.remove(100)\n",
    "\n",
    "print(a)"
   ]
  },
  {
   "cell_type": "code",
   "execution_count": 51,
   "id": "honest-nickel",
   "metadata": {},
   "outputs": [
    {
     "name": "stdout",
     "output_type": "stream",
     "text": [
      "[1, 2, 3, 4, 5, 6, 7, 8, 100]\n",
      "[1, 2, 4, 5, 6, 7, 8, 100]\n"
     ]
    }
   ],
   "source": [
    "a = [1, 2, 3, 4, 5, 6, 7, 8, 100]\n",
    "\n",
    "print(a)\n",
    "\n",
    "a.pop(2)\n",
    "\n",
    "print(a)"
   ]
  },
  {
   "cell_type": "code",
   "execution_count": 54,
   "id": "narrow-indianapolis",
   "metadata": {},
   "outputs": [
    {
     "name": "stdout",
     "output_type": "stream",
     "text": [
      "[1, 2, 3, 4, 5, 6, 7, 8, 100]\n",
      "[1, 2, 3, 4, 5, 1000, 7, 8, 100]\n"
     ]
    }
   ],
   "source": [
    "a = [1, 2, 3, 4, 5, 6, 7, 8, 100]\n",
    "\n",
    "print(a)\n",
    "\n",
    "a[5] = 1000\n",
    "\n",
    "print(a)"
   ]
  },
  {
   "cell_type": "code",
   "execution_count": 56,
   "id": "accepted-sphere",
   "metadata": {},
   "outputs": [
    {
     "name": "stdout",
     "output_type": "stream",
     "text": [
      "[1, 2, 3, 4, 5, 6, 7, 8, 100]\n",
      "9\n"
     ]
    }
   ],
   "source": [
    "a = [1, 2, 3, 4, 5, 6, 7, 8, 100]\n",
    "\n",
    "print(a)\n",
    "\n",
    "print(  len(a)  )"
   ]
  },
  {
   "cell_type": "code",
   "execution_count": 59,
   "id": "inclusive-victory",
   "metadata": {},
   "outputs": [
    {
     "name": "stdout",
     "output_type": "stream",
     "text": [
      "['商品B', '商品A', '商品A', '商品C', '商品B', '商品B', '商品A', '商品A', '商品C', '商品B', '商品B', '商品A', '商品A', '商品C', '商品B']\n",
      "6\n"
     ]
    }
   ],
   "source": [
    "list_A = ['商品B','商品A','商品A','商品C','商品B','商品B','商品A','商品A','商品C','商品B','商品B','商品A','商品A','商品C','商品B']\n",
    "\n",
    "print(list_A)\n",
    "\n",
    "print(list_A.count('商品A'))"
   ]
  },
  {
   "cell_type": "code",
   "execution_count": 65,
   "id": "material-record",
   "metadata": {},
   "outputs": [
    {
     "name": "stdout",
     "output_type": "stream",
     "text": [
      "[2, 4, 2, 5, 1]\n",
      "[1, 2, 2, 4, 5]\n",
      "[5, 4, 2, 2, 1]\n"
     ]
    }
   ],
   "source": [
    "a = [2, 4, 2, 5, 1]\n",
    "\n",
    "print(a)\n",
    "\n",
    "a.sort(reverse=False)\n",
    "print(a)\n",
    "\n",
    "a.sort(reverse=True)\n",
    "print(a)"
   ]
  },
  {
   "cell_type": "markdown",
   "id": "precious-drain",
   "metadata": {},
   "source": [
    "# 辞書型"
   ]
  },
  {
   "cell_type": "code",
   "execution_count": 1,
   "id": "operating-assembly",
   "metadata": {},
   "outputs": [
    {
     "name": "stdout",
     "output_type": "stream",
     "text": [
      "{'name': 'kamakari', 'age': 32, 'sex': 'male'} <class 'dict'>\n"
     ]
    }
   ],
   "source": [
    "data = {\n",
    "    'name':'kamakari', \n",
    "    'age':32, \n",
    "    'sex':'male'\n",
    "}\n",
    "\n",
    "print(data, type(data))"
   ]
  },
  {
   "cell_type": "code",
   "execution_count": 2,
   "id": "successful-trinity",
   "metadata": {},
   "outputs": [
    {
     "data": {
      "text/plain": [
       "{'name': 'kamakari', 'age': 32, 'sex': 'male'}"
      ]
     },
     "execution_count": 2,
     "metadata": {},
     "output_type": "execute_result"
    }
   ],
   "source": [
    "data"
   ]
  },
  {
   "cell_type": "code",
   "execution_count": 3,
   "id": "monetary-production",
   "metadata": {},
   "outputs": [
    {
     "data": {
      "text/plain": [
       "'kamakari'"
      ]
     },
     "execution_count": 3,
     "metadata": {},
     "output_type": "execute_result"
    }
   ],
   "source": [
    "data['name']"
   ]
  },
  {
   "cell_type": "code",
   "execution_count": 4,
   "id": "solid-hampton",
   "metadata": {},
   "outputs": [
    {
     "data": {
      "text/plain": [
       "32"
      ]
     },
     "execution_count": 4,
     "metadata": {},
     "output_type": "execute_result"
    }
   ],
   "source": [
    "data['age']"
   ]
  },
  {
   "cell_type": "code",
   "execution_count": 5,
   "id": "homeless-contractor",
   "metadata": {},
   "outputs": [
    {
     "data": {
      "text/plain": [
       "'male'"
      ]
     },
     "execution_count": 5,
     "metadata": {},
     "output_type": "execute_result"
    }
   ],
   "source": [
    "data['sex']"
   ]
  },
  {
   "cell_type": "code",
   "execution_count": 10,
   "id": "worse-warner",
   "metadata": {},
   "outputs": [
    {
     "name": "stdout",
     "output_type": "stream",
     "text": [
      "{'data1': [2, 3, 4, 5, 5], 'data2': [2, 5, 4, 15, 5, 100], 'data3': [2, 6, 8, 5, 5]}\n"
     ]
    }
   ],
   "source": [
    "data_1  = {\n",
    "    'data1': [ 2,3,4,5,5],\n",
    "    'data2': [ 2,5,4,15,5,100],\n",
    "    'data3': [ 2,6,8,5,5],\n",
    "}\n",
    "\n",
    "print(data_1)"
   ]
  },
  {
   "cell_type": "code",
   "execution_count": 12,
   "id": "automatic-oracle",
   "metadata": {},
   "outputs": [
    {
     "data": {
      "text/plain": [
       "[2, 3, 4, 5, 5]"
      ]
     },
     "execution_count": 12,
     "metadata": {},
     "output_type": "execute_result"
    }
   ],
   "source": [
    "data_1['data1']"
   ]
  },
  {
   "cell_type": "code",
   "execution_count": 13,
   "id": "modified-graduation",
   "metadata": {},
   "outputs": [
    {
     "data": {
      "text/plain": [
       "[2, 5, 4, 15, 5, 100]"
      ]
     },
     "execution_count": 13,
     "metadata": {},
     "output_type": "execute_result"
    }
   ],
   "source": [
    "data_1['data2']"
   ]
  },
  {
   "cell_type": "code",
   "execution_count": 14,
   "id": "blank-cooking",
   "metadata": {},
   "outputs": [
    {
     "data": {
      "text/plain": [
       "[2, 6, 8, 5, 5]"
      ]
     },
     "execution_count": 14,
     "metadata": {},
     "output_type": "execute_result"
    }
   ],
   "source": [
    "data_1['data3']"
   ]
  },
  {
   "cell_type": "code",
   "execution_count": 15,
   "id": "indoor-assist",
   "metadata": {},
   "outputs": [
    {
     "data": {
      "text/plain": [
       "{'name': 'kamakari', 'age': 32, 'sex': 'male'}"
      ]
     },
     "execution_count": 15,
     "metadata": {},
     "output_type": "execute_result"
    }
   ],
   "source": [
    "data"
   ]
  },
  {
   "cell_type": "code",
   "execution_count": 20,
   "id": "covered-holiday",
   "metadata": {},
   "outputs": [
    {
     "name": "stdout",
     "output_type": "stream",
     "text": [
      "dict_keys(['name', 'age', 'sex']) <class 'dict_keys'>\n"
     ]
    }
   ],
   "source": [
    "# キーを取得したい場合\n",
    "print(data.keys(), type(data.keys()))"
   ]
  },
  {
   "cell_type": "code",
   "execution_count": 23,
   "id": "plastic-diving",
   "metadata": {},
   "outputs": [
    {
     "name": "stdout",
     "output_type": "stream",
     "text": [
      "dict_values(['kamakari', 32, 'male']) <class 'dict_values'>\n"
     ]
    }
   ],
   "source": [
    "# を取得したい場合\n",
    "print(data.values(), type(data.values()))"
   ]
  },
  {
   "cell_type": "code",
   "execution_count": 24,
   "id": "developing-closer",
   "metadata": {},
   "outputs": [
    {
     "name": "stdout",
     "output_type": "stream",
     "text": [
      "dict_items([('name', 'kamakari'), ('age', 32), ('sex', 'male')]) <class 'dict_items'>\n"
     ]
    }
   ],
   "source": [
    "# キーと値を取得したい場合\n",
    "print(data.items(), type(data.items()))"
   ]
  },
  {
   "cell_type": "code",
   "execution_count": 27,
   "id": "worth-catering",
   "metadata": {},
   "outputs": [
    {
     "name": "stdout",
     "output_type": "stream",
     "text": [
      "kamakari\n",
      "32\n",
      "male\n",
      "['kamakari', 32, 'male']\n"
     ]
    }
   ],
   "source": [
    "list_ = []\n",
    "for i in data.values():\n",
    "    list_.append(i)\n",
    "    print(i)\n",
    "    \n",
    "print(list_)"
   ]
  },
  {
   "cell_type": "code",
   "execution_count": 28,
   "id": "tested-uncertainty",
   "metadata": {},
   "outputs": [
    {
     "data": {
      "text/plain": [
       "{'name': 'kamakari', 'age': 32, 'sex': 'male'}"
      ]
     },
     "execution_count": 28,
     "metadata": {},
     "output_type": "execute_result"
    }
   ],
   "source": [
    "data"
   ]
  },
  {
   "cell_type": "code",
   "execution_count": 32,
   "id": "informal-observation",
   "metadata": {},
   "outputs": [],
   "source": [
    "# 要素の追加\n",
    "data['weight'] = 78"
   ]
  },
  {
   "cell_type": "code",
   "execution_count": 33,
   "id": "persistent-candle",
   "metadata": {},
   "outputs": [
    {
     "data": {
      "text/plain": [
       "{'name': 'kamakari', 'age': 32, 'sex': 'male', 'weight': 78}"
      ]
     },
     "execution_count": 33,
     "metadata": {},
     "output_type": "execute_result"
    }
   ],
   "source": [
    "data"
   ]
  },
  {
   "cell_type": "code",
   "execution_count": 36,
   "id": "occupied-percentage",
   "metadata": {},
   "outputs": [
    {
     "name": "stdout",
     "output_type": "stream",
     "text": [
      "{'name': 'kamakari', 'age': 32, 'sex': 'male', 'weight': 78}\n",
      "{'age': 32, 'sex': 'male', 'weight': 78}\n"
     ]
    }
   ],
   "source": [
    "# 要素の削除 del\n",
    "print(data)\n",
    "\n",
    "del data['name']\n",
    "\n",
    "print(data)"
   ]
  },
  {
   "cell_type": "code",
   "execution_count": 37,
   "id": "tracked-ticket",
   "metadata": {},
   "outputs": [
    {
     "name": "stdout",
     "output_type": "stream",
     "text": [
      "{'age': 100, 'sex': 'male', 'weight': 78}\n"
     ]
    }
   ],
   "source": [
    "# 要素の更新\n",
    "\n",
    "data['age'] = 100\n",
    "\n",
    "print(data)"
   ]
  },
  {
   "cell_type": "code",
   "execution_count": 43,
   "id": "organic-migration",
   "metadata": {},
   "outputs": [
    {
     "name": "stdout",
     "output_type": "stream",
     "text": [
      "{'data1': [2, 3, 4, 5, 5], 'data2': [2, 5, 4, 15, 5, 100], 'data3': [2, 6, 8, 5, 5]}\n",
      "[2, 3, 4, 5, 5] <class 'list'>\n",
      "[2, 3, 4, 5]\n"
     ]
    }
   ],
   "source": [
    "# 辞書の値にリストを格納する\n",
    "\n",
    "data_1  = {\n",
    "    'data1': [ 2,3,4,5,5],\n",
    "    'data2': [ 2,5,4,15,5,100],\n",
    "    'data3': [ 2,6,8,5,5],\n",
    "}\n",
    "\n",
    "print(data_1)\n",
    "print(data_1['data1'], type(data_1['data1']))\n",
    "\n",
    "print(data_1['data1'][0:4])"
   ]
  },
  {
   "cell_type": "code",
   "execution_count": 44,
   "id": "ranging-sullivan",
   "metadata": {},
   "outputs": [
    {
     "name": "stdout",
     "output_type": "stream",
     "text": [
      "[['name', 'kamakiri'], ['age', 32], ['sex', 'male']]\n"
     ]
    }
   ],
   "source": [
    "# リストの中のリストを辞書型にする。\n",
    "list_ = [\n",
    "    ['name', 'aaaaaa'],\n",
    "    ['age', 32],\n",
    "    ['maleFemale', 'male']\n",
    "]\n",
    "\n",
    "print(list_)"
   ]
  },
  {
   "cell_type": "code",
   "execution_count": 46,
   "id": "infectious-indiana",
   "metadata": {},
   "outputs": [
    {
     "name": "stdout",
     "output_type": "stream",
     "text": [
      "{'name': 'kamakiri', 'age': 32, 'sex': 'male'} <class 'dict'>\n"
     ]
    }
   ],
   "source": [
    "# 辞書型に変更する\n",
    "dic = dict(list_)\n",
    "\n",
    "print(dic , type(dic))"
   ]
  },
  {
   "cell_type": "code",
   "execution_count": 47,
   "id": "junior-respect",
   "metadata": {},
   "outputs": [
    {
     "data": {
      "text/plain": [
       "{'age': 100, 'sex': 'male', 'weight': 78}"
      ]
     },
     "execution_count": 47,
     "metadata": {},
     "output_type": "execute_result"
    }
   ],
   "source": [
    "data"
   ]
  },
  {
   "cell_type": "code",
   "execution_count": 48,
   "id": "heard-ideal",
   "metadata": {},
   "outputs": [],
   "source": [
    "data['name'] = 'aaaaaa'"
   ]
  },
  {
   "cell_type": "code",
   "execution_count": 49,
   "id": "finnish-mistress",
   "metadata": {},
   "outputs": [
    {
     "data": {
      "text/plain": [
       "{'age': 100, 'sex': 'male', 'weight': 78, 'name': 'kamakiri'}"
      ]
     },
     "execution_count": 49,
     "metadata": {},
     "output_type": "execute_result"
    }
   ],
   "source": [
    "data"
   ]
  },
  {
   "cell_type": "code",
   "execution_count": 52,
   "id": "equivalent-neutral",
   "metadata": {},
   "outputs": [
    {
     "name": "stdout",
     "output_type": "stream",
     "text": [
      "{'age': 100, 'sex': 'male', 'weight': 78, 'name': 'kamakiri'} <class 'dict'> 2037066088512\n"
     ]
    }
   ],
   "source": [
    "print(data, type(data), id(data))"
   ]
  },
  {
   "cell_type": "code",
   "execution_count": 54,
   "id": "military-wheat",
   "metadata": {},
   "outputs": [
    {
     "name": "stdout",
     "output_type": "stream",
     "text": [
      "{'age': 100, 'sex': 'male', 'weight': 78, 'name': 'kamakiri'} <class 'dict'> 2037066088512\n",
      "{'age': 100, 'sex': 'male', 'weight': 78, 'name': 'kamakiri'} <class 'dict'> 2037066088512\n"
     ]
    }
   ],
   "source": [
    "data_a = data\n",
    "\n",
    "print(data, type(data), id(data))\n",
    "print(data_a, type(data_a), id(data_a))"
   ]
  },
  {
   "cell_type": "code",
   "execution_count": 55,
   "id": "fourth-throat",
   "metadata": {},
   "outputs": [],
   "source": [
    "data_a['name'] = 'apple'"
   ]
  },
  {
   "cell_type": "code",
   "execution_count": 56,
   "id": "suited-natural",
   "metadata": {},
   "outputs": [
    {
     "name": "stdout",
     "output_type": "stream",
     "text": [
      "{'age': 100, 'sex': 'male', 'weight': 78, 'name': 'apple'}\n",
      "{'age': 100, 'sex': 'male', 'weight': 78, 'name': 'apple'}\n"
     ]
    }
   ],
   "source": [
    "print(data)\n",
    "print(data_a)"
   ]
  },
  {
   "cell_type": "code",
   "execution_count": 59,
   "id": "responsible-deficit",
   "metadata": {},
   "outputs": [
    {
     "name": "stdout",
     "output_type": "stream",
     "text": [
      "{'age': 100, 'sex': 'male', 'weight': 78, 'name': 'kamakiri'} <class 'dict'> 2037066088512\n",
      "{'age': 100, 'sex': 'male', 'weight': 78, 'name': 'kamakiri'} <class 'dict'> 2037066600384\n"
     ]
    }
   ],
   "source": [
    "data['name'] = 'kamakiri'\n",
    "\n",
    "# copyメソッド\n",
    "data_a = data.copy()\n",
    "\n",
    "print(data, type(data), id(data))\n",
    "print(data_a, type(data_a), id(data_a))"
   ]
  },
  {
   "cell_type": "code",
   "execution_count": 60,
   "id": "crude-howard",
   "metadata": {},
   "outputs": [
    {
     "name": "stdout",
     "output_type": "stream",
     "text": [
      "{'age': 100, 'sex': 'male', 'weight': 78, 'name': 'kamakiri'}\n",
      "{'age': 100, 'sex': 'male', 'weight': 78, 'name': 'apple'}\n"
     ]
    }
   ],
   "source": [
    "data_a['name'] = 'apple'\n",
    "\n",
    "print(data)\n",
    "print(data_a)"
   ]
  },
  {
   "cell_type": "markdown",
   "id": "ranking-interaction",
   "metadata": {},
   "source": [
    "# if文"
   ]
  },
  {
   "cell_type": "code",
   "execution_count": 67,
   "id": "institutional-sharp",
   "metadata": {},
   "outputs": [],
   "source": [
    "a = 1\n",
    "b = 1\n",
    "\n",
    "if a != b:\n",
    "    print(a)\n",
    "    print(b)\n",
    "    #処理1\n",
    "    #処理2\n",
    "    #処理3"
   ]
  },
  {
   "cell_type": "code",
   "execution_count": 68,
   "id": "median-assignment",
   "metadata": {},
   "outputs": [
    {
     "name": "stdout",
     "output_type": "stream",
     "text": [
      "aとbは10です。\n"
     ]
    }
   ],
   "source": [
    "a = 10\n",
    "b = 10\n",
    "\n",
    "if a == b:\n",
    "    print('aとbは10です。')"
   ]
  },
  {
   "cell_type": "code",
   "execution_count": 69,
   "id": "comfortable-oregon",
   "metadata": {},
   "outputs": [],
   "source": [
    "a = 10\n",
    "b = 10\n",
    "\n",
    "if a !=b:\n",
    "    print('aとbは等しくありません。')"
   ]
  },
  {
   "cell_type": "code",
   "execution_count": 70,
   "id": "regular-mention",
   "metadata": {},
   "outputs": [
    {
     "name": "stdout",
     "output_type": "stream",
     "text": [
      "aとbは等しくありません。\n"
     ]
    }
   ],
   "source": [
    "a = 10\n",
    "b = 5\n",
    "\n",
    "if a !=b:\n",
    "    print('aとbは等しくありません。')"
   ]
  },
  {
   "cell_type": "code",
   "execution_count": 71,
   "id": "empirical-uniform",
   "metadata": {},
   "outputs": [
    {
     "name": "stdout",
     "output_type": "stream",
     "text": [
      "aはbより大きいです。\n"
     ]
    }
   ],
   "source": [
    "a = 50\n",
    "b = 10\n",
    "\n",
    "if a > b:\n",
    "    print('aはbより大きいです。')"
   ]
  },
  {
   "cell_type": "code",
   "execution_count": 72,
   "id": "swedish-device",
   "metadata": {},
   "outputs": [],
   "source": [
    "a = 10\n",
    "b = 10\n",
    "\n",
    "if a > b:\n",
    "    print('aはbより大きいです。')"
   ]
  },
  {
   "cell_type": "code",
   "execution_count": 73,
   "id": "historical-surfing",
   "metadata": {},
   "outputs": [
    {
     "name": "stdout",
     "output_type": "stream",
     "text": [
      "aはb以上です。\n"
     ]
    }
   ],
   "source": [
    "a = 50\n",
    "b = 10\n",
    "\n",
    "if a >= b:\n",
    "    print('aはb以上です。')"
   ]
  },
  {
   "cell_type": "code",
   "execution_count": 74,
   "id": "disturbed-glance",
   "metadata": {},
   "outputs": [
    {
     "name": "stdout",
     "output_type": "stream",
     "text": [
      "aはb以上です。\n"
     ]
    }
   ],
   "source": [
    "a = 10\n",
    "b = 10\n",
    "\n",
    "if a >= b:\n",
    "    print('aはb以上です。')"
   ]
  },
  {
   "cell_type": "code",
   "execution_count": 76,
   "id": "approved-graduation",
   "metadata": {},
   "outputs": [
    {
     "name": "stdout",
     "output_type": "stream",
     "text": [
      "bはa以上です。\n"
     ]
    }
   ],
   "source": [
    "a = 50\n",
    "b = 100\n",
    "\n",
    "if a <= b:\n",
    "    print('bはa以上です。')"
   ]
  },
  {
   "cell_type": "code",
   "execution_count": 80,
   "id": "greenhouse-jewelry",
   "metadata": {},
   "outputs": [
    {
     "name": "stdout",
     "output_type": "stream",
     "text": [
      "a= 10 :id= 140716129982400\n",
      "b= 10 :id= 140716129982400\n",
      "aとbは同じオブジェクトです。\n"
     ]
    }
   ],
   "source": [
    "a = 10\n",
    "b = 10\n",
    "\n",
    "print('a=',a , ':id=', id(a))\n",
    "print('b=',b , ':id=', id(b))\n",
    "\n",
    "if a is b:\n",
    "    print('aとbは同じオブジェクトです。')"
   ]
  },
  {
   "cell_type": "code",
   "execution_count": 81,
   "id": "ordinary-idaho",
   "metadata": {},
   "outputs": [
    {
     "name": "stdout",
     "output_type": "stream",
     "text": [
      "a= 10 :id= 140716129982400\n",
      "b= 20 :id= 140716129982720\n"
     ]
    }
   ],
   "source": [
    "a = 10\n",
    "b = 20\n",
    "\n",
    "print('a=',a , ':id=', id(a))\n",
    "print('b=',b , ':id=', id(b))\n",
    "\n",
    "if a is b:\n",
    "    print('aとbは同じオブジェクトです。')"
   ]
  },
  {
   "cell_type": "code",
   "execution_count": 83,
   "id": "macro-brush",
   "metadata": {},
   "outputs": [
    {
     "name": "stdout",
     "output_type": "stream",
     "text": [
      "a= 10 :id= 140716129982400\n",
      "b= 20 :id= 140716129982720\n",
      "aとbは異なるオブジェクトです。\n"
     ]
    }
   ],
   "source": [
    "a = 10\n",
    "b = 20\n",
    "\n",
    "print('a=',a , ':id=', id(a))\n",
    "print('b=',b , ':id=', id(b))\n",
    "\n",
    "if a is not b:\n",
    "    print('aとbは異なるオブジェクトです。')"
   ]
  },
  {
   "cell_type": "code",
   "execution_count": 88,
   "id": "religious-force",
   "metadata": {},
   "outputs": [
    {
     "name": "stdout",
     "output_type": "stream",
     "text": [
      "a= ['kamakiri', 32] :id= 2037066967808\n",
      "b= ['kamakiri', 32] :id= 2037067193088\n"
     ]
    }
   ],
   "source": [
    "a = ['aaaaaa', 32]\n",
    "b = ['aaaaaa', 32]\n",
    "\n",
    "print('a=',a , ':id=', id(a))\n",
    "print('b=',b , ':id=', id(b))\n",
    "\n",
    "if a is b:\n",
    "    print('aとbは同じオブジェクトです。')"
   ]
  },
  {
   "cell_type": "code",
   "execution_count": 89,
   "id": "temporal-kentucky",
   "metadata": {},
   "outputs": [
    {
     "name": "stdout",
     "output_type": "stream",
     "text": [
      "a= ['kamakiri', 32] :id= 2037066350336\n",
      "b= ['kamakiri', 32] :id= 2037066350336\n",
      "aとbは同じオブジェクトです。\n"
     ]
    }
   ],
   "source": [
    "a = ['kamakiri', 32]\n",
    "b = a\n",
    "\n",
    "print('a=',a , ':id=', id(a))\n",
    "print('b=',b , ':id=', id(b))\n",
    "\n",
    "if a is b:\n",
    "    print('aとbは同じオブジェクトです。')"
   ]
  },
  {
   "cell_type": "code",
   "execution_count": 90,
   "id": "moved-still",
   "metadata": {},
   "outputs": [
    {
     "name": "stdout",
     "output_type": "stream",
     "text": [
      "a= ['kamakiri', 32] :id= 2037067230976\n",
      "b= ['kamakiri', 32] :id= 2037066988736\n"
     ]
    }
   ],
   "source": [
    "a = ['aaaaaa', 32]\n",
    "b = a.copy()\n",
    "\n",
    "print('a=',a , ':id=', id(a))\n",
    "print('b=',b , ':id=', id(b))\n",
    "\n",
    "if a is b:\n",
    "    print('aとbは同じオブジェクトです。')"
   ]
  },
  {
   "cell_type": "code",
   "execution_count": 94,
   "id": "better-steal",
   "metadata": {},
   "outputs": [
    {
     "name": "stdout",
     "output_type": "stream",
     "text": [
      "bに'kamakiri'という要素があります。\n"
     ]
    }
   ],
   "source": [
    "b = ['kamakiri', 32]\n",
    "\n",
    "if 'aaaaaa' in b:\n",
    "    print(\"bに'aaaaaa'という要素があります。\")"
   ]
  },
  {
   "cell_type": "code",
   "execution_count": 95,
   "id": "fixed-terminology",
   "metadata": {},
   "outputs": [
    {
     "name": "stdout",
     "output_type": "stream",
     "text": [
      "kamakiriです\n"
     ]
    }
   ],
   "source": [
    "name = 'aaaaaa'\n",
    "if name=='aaaaaa':\n",
    "    print('aaaaaa')\n",
    "    \n",
    "else:\n",
    "    print('aaaaaaではありません。')"
   ]
  },
  {
   "cell_type": "code",
   "execution_count": 99,
   "id": "outside-semester",
   "metadata": {},
   "outputs": [
    {
     "name": "stdout",
     "output_type": "stream",
     "text": [
      "appleではありません。\n"
     ]
    }
   ],
   "source": [
    "name = 'apple'\n",
    "\n",
    "if name=='aaaaaa':\n",
    "    print(f'{name}です')\n",
    "    \n",
    "else:\n",
    "    print(f'{name}ではありません。')"
   ]
  },
  {
   "cell_type": "code",
   "execution_count": 100,
   "id": "graduate-lawyer",
   "metadata": {},
   "outputs": [
    {
     "name": "stdout",
     "output_type": "stream",
     "text": [
      "xは50より大きいです。\n"
     ]
    }
   ],
   "source": [
    "x = 100\n",
    "\n",
    "if x<=10:\n",
    "    print('xは10以下です。')\n",
    "elif x<=20:\n",
    "    print('xは20以下です。')\n",
    "elif x<=30:\n",
    "    print('xは30以下です。')\n",
    "elif x<=40:\n",
    "    print('xは40以下です。')\n",
    "elif x<=50:\n",
    "    print('xは50以下です。')\n",
    "else:\n",
    "    print('xは50より大きいです。')"
   ]
  },
  {
   "cell_type": "code",
   "execution_count": 108,
   "id": "polish-shift",
   "metadata": {},
   "outputs": [
    {
     "name": "stdout",
     "output_type": "stream",
     "text": [
      "xは10、20，30ではありません。\n"
     ]
    }
   ],
   "source": [
    "x = 100\n",
    "y = 20\n",
    "\n",
    "if x == 10:\n",
    "    print('xは10です')\n",
    "    if y == 20:\n",
    "        print('yは20です')\n",
    "        \n",
    "elif x == 20:\n",
    "    print('xは20です')\n",
    "    \n",
    "elif x == 30:\n",
    "    print('xは30です')\n",
    "else:\n",
    "    print('xは10、20，30ではありません。')"
   ]
  },
  {
   "cell_type": "code",
   "execution_count": 111,
   "id": "lasting-skating",
   "metadata": {},
   "outputs": [
    {
     "name": "stdout",
     "output_type": "stream",
     "text": [
      "aが10でないか、bが20でないか\n"
     ]
    }
   ],
   "source": [
    "a = 1\n",
    "b = 20\n",
    "\n",
    "if a==10 and b==20:\n",
    "    print('aは10です')\n",
    "    print('bは20です')\n",
    "else:\n",
    "    print('aが10でないか、bが20でないか')"
   ]
  },
  {
   "cell_type": "code",
   "execution_count": 120,
   "id": "strategic-subdivision",
   "metadata": {},
   "outputs": [
    {
     "name": "stdout",
     "output_type": "stream",
     "text": [
      "a=10です\n",
      "b=20です\n",
      "c=30です\n"
     ]
    }
   ],
   "source": [
    "a = 10\n",
    "b = 20\n",
    "c = 30\n",
    " \n",
    "if a == 10 and b == 20 and c == 30:\n",
    "    print('a=10です')\n",
    "    print('b=20です')\n",
    "    print('c=30です')\n",
    "else:\n",
    "    print('a=10ではないか, b=20ではないか,c=30ではないか')"
   ]
  },
  {
   "cell_type": "code",
   "execution_count": 123,
   "id": "dimensional-recommendation",
   "metadata": {},
   "outputs": [
    {
     "name": "stdout",
     "output_type": "stream",
     "text": [
      "aかbのどちらかが10です\n"
     ]
    }
   ],
   "source": [
    "a = 10\n",
    "b = 20\n",
    "\n",
    "if a==10 or b==10:\n",
    "    print('aかbのどちらかが10です')\n",
    "    \n",
    "else:\n",
    "    print('aとbのどちらも10ではありません')"
   ]
  },
  {
   "cell_type": "markdown",
   "id": "environmental-cruise",
   "metadata": {},
   "source": [
    "# 繰り返し文"
   ]
  },
  {
   "cell_type": "code",
   "execution_count": 125,
   "id": "important-positive",
   "metadata": {},
   "outputs": [
    {
     "name": "stdout",
     "output_type": "stream",
     "text": [
      "55\n"
     ]
    }
   ],
   "source": [
    "x = 1+2+3+4+5+6+7+8+9+10\n",
    "print(x)"
   ]
  },
  {
   "cell_type": "code",
   "execution_count": 126,
   "id": "particular-morgan",
   "metadata": {},
   "outputs": [
    {
     "name": "stdout",
     "output_type": "stream",
     "text": [
      "0\n",
      "1\n",
      "2\n",
      "3\n",
      "4\n",
      "5\n",
      "6\n",
      "7\n",
      "8\n",
      "9\n",
      "10\n"
     ]
    }
   ],
   "source": [
    "print(0)\n",
    "print(1)\n",
    "print(2)\n",
    "print(3)\n",
    "print(4)\n",
    "print(5)\n",
    "print(6)\n",
    "print(7)\n",
    "print(8)\n",
    "print(9)\n",
    "print(10)"
   ]
  },
  {
   "cell_type": "code",
   "execution_count": 127,
   "id": "threaded-efficiency",
   "metadata": {},
   "outputs": [
    {
     "name": "stdout",
     "output_type": "stream",
     "text": [
      "0\n",
      "1\n",
      "2\n",
      "3\n",
      "4\n",
      "5\n",
      "6\n",
      "7\n",
      "8\n",
      "9\n",
      "10\n"
     ]
    }
   ],
   "source": [
    "for i in range(11):\n",
    "    print(i)"
   ]
  },
  {
   "cell_type": "code",
   "execution_count": 128,
   "id": "promotional-recruitment",
   "metadata": {},
   "outputs": [
    {
     "name": "stdout",
     "output_type": "stream",
     "text": [
      "5\n",
      "6\n",
      "7\n",
      "8\n",
      "9\n",
      "10\n"
     ]
    }
   ],
   "source": [
    "for i in range(5, 11):\n",
    "    print(i)"
   ]
  },
  {
   "cell_type": "code",
   "execution_count": 130,
   "id": "requested-brain",
   "metadata": {},
   "outputs": [
    {
     "name": "stdout",
     "output_type": "stream",
     "text": [
      "5\n",
      "7\n",
      "9\n",
      "11\n",
      "13\n",
      "15\n",
      "17\n",
      "19\n",
      "21\n",
      "23\n",
      "25\n",
      "27\n",
      "29\n",
      "31\n",
      "33\n",
      "35\n",
      "37\n",
      "39\n",
      "41\n",
      "43\n",
      "45\n",
      "47\n",
      "49\n",
      "51\n",
      "53\n",
      "55\n",
      "57\n",
      "59\n",
      "61\n",
      "63\n",
      "65\n",
      "67\n",
      "69\n",
      "71\n",
      "73\n",
      "75\n",
      "77\n",
      "79\n",
      "81\n",
      "83\n",
      "85\n",
      "87\n",
      "89\n",
      "91\n",
      "93\n",
      "95\n",
      "97\n",
      "99\n"
     ]
    }
   ],
   "source": [
    "for i in range(5, 100, 2):\n",
    "    print(i)"
   ]
  },
  {
   "cell_type": "code",
   "execution_count": 136,
   "id": "cleared-internship",
   "metadata": {},
   "outputs": [
    {
     "name": "stdout",
     "output_type": "stream",
     "text": [
      "1\n",
      "最初のx= 0\n",
      "xに1足されたx= 1\n",
      "2\n",
      "最初のx= 1\n",
      "xに1足されたx= 2\n",
      "3\n",
      "最初のx= 2\n",
      "xに1足されたx= 3\n",
      "4\n",
      "最初のx= 3\n",
      "xに1足されたx= 4\n",
      "5\n",
      "最初のx= 4\n",
      "xに1足されたx= 5\n",
      "6\n",
      "最初のx= 5\n",
      "xに1足されたx= 6\n",
      "7\n",
      "最初のx= 6\n",
      "xに1足されたx= 7\n",
      "8\n",
      "最初のx= 7\n",
      "xに1足されたx= 8\n",
      "9\n",
      "最初のx= 8\n",
      "xに1足されたx= 9\n",
      "10\n",
      "最初のx= 9\n",
      "xに1足されたx= 10\n",
      "最終のxは 10\n"
     ]
    }
   ],
   "source": [
    "x = 0\n",
    "\n",
    "for i in range(1, 11):\n",
    "    print(i)\n",
    "    print('最初のx=', x)\n",
    "    x = x + 1\n",
    "    print('xに1足されたx=', x)\n",
    "    \n",
    "print('最終のxは',x)"
   ]
  },
  {
   "cell_type": "code",
   "execution_count": 138,
   "id": "annual-petite",
   "metadata": {},
   "outputs": [
    {
     "name": "stdout",
     "output_type": "stream",
     "text": [
      "最終のxは 10\n"
     ]
    }
   ],
   "source": [
    "x = 0\n",
    "\n",
    "for i in range(1, 11):\n",
    "    x = x + 1\n",
    "    \n",
    "print('最終のxは',x)"
   ]
  },
  {
   "cell_type": "code",
   "execution_count": 140,
   "id": "fitting-panic",
   "metadata": {},
   "outputs": [
    {
     "name": "stdout",
     "output_type": "stream",
     "text": [
      "最終のxは 55\n"
     ]
    }
   ],
   "source": [
    "x = 0\n",
    "\n",
    "for i in range(1, 11):\n",
    "    x = x + i\n",
    "    \n",
    "print('最終のxは',x)"
   ]
  },
  {
   "cell_type": "code",
   "execution_count": 143,
   "id": "downtown-doctor",
   "metadata": {},
   "outputs": [
    {
     "name": "stdout",
     "output_type": "stream",
     "text": [
      "1 <class 'int'>\n",
      "2 <class 'int'>\n",
      "3 <class 'int'>\n",
      "7 <class 'int'>\n",
      "5 <class 'int'>\n",
      "kamakiri <class 'str'>\n",
      "7 <class 'int'>\n",
      "2 <class 'int'>\n",
      "apple <class 'str'>\n"
     ]
    }
   ],
   "source": [
    "list_ = [1,2,3,7,5,'kamakiri',7,2,'apple']\n",
    "\n",
    "for i in list_:\n",
    "    print(i, type(i))"
   ]
  },
  {
   "cell_type": "code",
   "execution_count": 144,
   "id": "nearby-tongue",
   "metadata": {},
   "outputs": [
    {
     "name": "stdout",
     "output_type": "stream",
     "text": [
      "data1 <class 'str'>\n",
      "data2 <class 'str'>\n",
      "data3 <class 'str'>\n"
     ]
    }
   ],
   "source": [
    "data_1  = {\n",
    "    'data1': [ 2,3,4,5,5],\n",
    "    'data2': [ 2,5,4,15,5,100],\n",
    "    'data3': [ 2,6,8,5,5],\n",
    "}\n",
    "\n",
    "for i in data_1:\n",
    "    print(i, type(i))"
   ]
  },
  {
   "cell_type": "code",
   "execution_count": 145,
   "id": "lightweight-rapid",
   "metadata": {},
   "outputs": [
    {
     "name": "stdout",
     "output_type": "stream",
     "text": [
      "[2, 3, 4, 5, 5] <class 'list'>\n",
      "[2, 5, 4, 15, 5, 100] <class 'list'>\n",
      "[2, 6, 8, 5, 5] <class 'list'>\n"
     ]
    }
   ],
   "source": [
    "data_1  = {\n",
    "    'data1': [ 2,3,4,5,5],\n",
    "    'data2': [ 2,5,4,15,5,100],\n",
    "    'data3': [ 2,6,8,5,5],\n",
    "}\n",
    "\n",
    "for i in data_1.values():\n",
    "    \n",
    "    print(i, type(i))"
   ]
  },
  {
   "cell_type": "code",
   "execution_count": 147,
   "id": "german-thunder",
   "metadata": {},
   "outputs": [
    {
     "name": "stdout",
     "output_type": "stream",
     "text": [
      "('data1', [2, 3, 4, 5, 5]) <class 'tuple'>\n",
      "('data2', [2, 5, 4, 15, 5, 100]) <class 'tuple'>\n",
      "('data3', [2, 6, 8, 5, 5]) <class 'tuple'>\n"
     ]
    }
   ],
   "source": [
    "data_1  = {\n",
    "    'data1': [ 2,3,4,5,5],\n",
    "    'data2': [ 2,5,4,15,5,100],\n",
    "    'data3': [ 2,6,8,5,5],\n",
    "}\n",
    "\n",
    "for i in data_1.items():\n",
    "    print(i, type(i))"
   ]
  },
  {
   "cell_type": "code",
   "execution_count": 11,
   "id": "individual-messenger",
   "metadata": {},
   "outputs": [
    {
     "name": "stdout",
     "output_type": "stream",
     "text": [
      "[333, 334, 335, 336, 337, 338, 339, 340, 341, 342, 343, 344, 345, 346, 347, 348, 349, 350, 351, 352, 353, 354, 355, 356, 357, 358, 359, 360, 361, 362, 363, 364, 365, 366, 367, 368, 369, 370, 371, 372, 373, 374, 375, 376, 377, 378, 379, 380, 381, 382, 383, 384, 385, 386, 387, 388, 389, 390, 391, 392, 393, 394, 395, 396, 397, 398, 399, 400, 401, 402, 403, 404, 405, 406, 407, 408, 409, 410, 411, 412, 413, 414, 415, 416, 417, 418, 419, 420, 421, 422, 423, 424, 425, 426, 427, 428, 429, 430, 431, 432]\n"
     ]
    }
   ],
   "source": [
    "datas = []\n",
    "\n",
    "for i in range(333,433):\n",
    "    datas.append(i)\n",
    "    \n",
    "print(datas)"
   ]
  },
  {
   "cell_type": "code",
   "execution_count": 15,
   "id": "efficient-belarus",
   "metadata": {},
   "outputs": [
    {
     "name": "stdout",
     "output_type": "stream",
     "text": [
      "333\n",
      "334\n",
      "335\n",
      "336\n",
      "337\n",
      "338\n",
      "339\n",
      "340\n",
      "341\n",
      "342\n",
      "343\n",
      "344\n",
      "345\n",
      "346\n",
      "347\n",
      "348\n",
      "349\n",
      "350\n",
      "351\n",
      "352\n",
      "353\n",
      "354\n",
      "355\n",
      "356\n",
      "357\n",
      "358\n",
      "359\n",
      "360\n",
      "361\n",
      "362\n",
      "363\n",
      "364\n",
      "365\n",
      "366\n",
      "367\n",
      "368\n",
      "369\n",
      "370\n",
      "371\n",
      "372\n",
      "373\n",
      "374\n",
      "375\n",
      "376\n",
      "377\n",
      "378\n",
      "379\n",
      "380\n",
      "381\n",
      "382\n",
      "383\n",
      "384\n",
      "385\n",
      "386\n",
      "387\n",
      "388\n",
      "389\n",
      "390\n",
      "391\n",
      "392\n",
      "393\n",
      "394\n",
      "395\n",
      "396\n",
      "397\n",
      "398\n",
      "399\n",
      "400\n",
      "401\n",
      "402\n",
      "403\n",
      "404\n",
      "405\n",
      "406\n",
      "407\n",
      "408\n",
      "409\n",
      "410\n",
      "411\n",
      "412\n",
      "413\n",
      "414\n",
      "415\n",
      "416\n",
      "417\n",
      "418\n",
      "419\n",
      "420\n",
      "421\n",
      "422\n",
      "423\n",
      "424\n",
      "425\n",
      "426\n",
      "427\n",
      "428\n",
      "429\n",
      "430\n",
      "431\n",
      "432\n"
     ]
    }
   ],
   "source": [
    "for data in datas:\n",
    "    print(data)"
   ]
  },
  {
   "cell_type": "code",
   "execution_count": 12,
   "id": "sweet-imagination",
   "metadata": {},
   "outputs": [
    {
     "name": "stdout",
     "output_type": "stream",
     "text": [
      "0 333\n",
      "1 334\n",
      "2 335\n",
      "3 336\n",
      "4 337\n",
      "5 338\n",
      "6 339\n",
      "7 340\n",
      "8 341\n",
      "9 342\n",
      "10 343\n",
      "11 344\n",
      "12 345\n",
      "13 346\n",
      "14 347\n",
      "15 348\n",
      "16 349\n",
      "17 350\n",
      "18 351\n",
      "19 352\n",
      "20 353\n",
      "21 354\n",
      "22 355\n",
      "23 356\n",
      "24 357\n",
      "25 358\n",
      "26 359\n",
      "27 360\n",
      "28 361\n",
      "29 362\n",
      "30 363\n",
      "31 364\n",
      "32 365\n",
      "33 366\n",
      "34 367\n",
      "35 368\n",
      "36 369\n",
      "37 370\n",
      "38 371\n",
      "39 372\n",
      "40 373\n",
      "41 374\n",
      "42 375\n",
      "43 376\n",
      "44 377\n",
      "45 378\n",
      "46 379\n",
      "47 380\n",
      "48 381\n",
      "49 382\n",
      "50 383\n",
      "51 384\n",
      "52 385\n",
      "53 386\n",
      "54 387\n",
      "55 388\n",
      "56 389\n",
      "57 390\n",
      "58 391\n",
      "59 392\n",
      "60 393\n",
      "61 394\n",
      "62 395\n",
      "63 396\n",
      "64 397\n",
      "65 398\n",
      "66 399\n",
      "67 400\n",
      "68 401\n",
      "69 402\n",
      "70 403\n",
      "71 404\n",
      "72 405\n",
      "73 406\n",
      "74 407\n",
      "75 408\n",
      "76 409\n",
      "77 410\n",
      "78 411\n",
      "79 412\n",
      "80 413\n",
      "81 414\n",
      "82 415\n",
      "83 416\n",
      "84 417\n",
      "85 418\n",
      "86 419\n",
      "87 420\n",
      "88 421\n",
      "89 422\n",
      "90 423\n",
      "91 424\n",
      "92 425\n",
      "93 426\n",
      "94 427\n",
      "95 428\n",
      "96 429\n",
      "97 430\n",
      "98 431\n",
      "99 432\n"
     ]
    }
   ],
   "source": [
    "for index, data in enumerate(datas):\n",
    "    print(index, data)"
   ]
  },
  {
   "cell_type": "code",
   "execution_count": 19,
   "id": "sufficient-comfort",
   "metadata": {},
   "outputs": [
    {
     "name": "stdout",
     "output_type": "stream",
     "text": [
      "0 333\n",
      "1 334\n",
      "2 335\n",
      "3 336\n",
      "4 337\n",
      "5 338\n",
      "6 339\n",
      "7 340\n",
      "8 341\n",
      "9 342\n",
      "10 343\n",
      "11 344\n",
      "12 345\n",
      "13 346\n",
      "14 347\n",
      "15 348\n",
      "16 349\n",
      "17 350\n",
      "18 351\n",
      "19 352\n",
      "20 353\n",
      "21 354\n",
      "22 355\n",
      "23 356\n",
      "24 357\n",
      "25 358\n",
      "26 359\n",
      "27 360\n",
      "28 361\n",
      "29 362\n",
      "30 363\n",
      "31 364\n",
      "32 365\n",
      "33 366\n",
      "34 367\n",
      "35 368\n",
      "36 369\n",
      "37 370\n",
      "38 371\n",
      "39 372\n",
      "40 373\n",
      "41 374\n",
      "42 375\n",
      "43 376\n",
      "44 377\n",
      "45 378\n",
      "46 379\n",
      "47 380\n",
      "48 381\n",
      "49 382\n",
      "50 383\n",
      "51 384\n",
      "52 385\n",
      "53 386\n",
      "54 387\n",
      "55 388\n",
      "56 389\n",
      "57 390\n",
      "58 391\n",
      "59 392\n",
      "60 393\n",
      "61 394\n",
      "62 395\n",
      "63 396\n",
      "64 397\n",
      "65 398\n",
      "66 399\n",
      "67 400\n",
      "68 401\n",
      "69 402\n",
      "70 403\n",
      "71 404\n",
      "72 405\n",
      "73 406\n",
      "74 407\n",
      "75 408\n",
      "76 409\n",
      "77 410\n",
      "78 411\n",
      "79 412\n",
      "80 413\n",
      "81 414\n",
      "82 415\n",
      "83 416\n",
      "84 417\n",
      "85 418\n",
      "86 419\n",
      "87 420\n",
      "88 421\n",
      "89 422\n",
      "90 423\n",
      "91 424\n",
      "92 425\n",
      "93 426\n",
      "94 427\n",
      "95 428\n",
      "96 429\n",
      "97 430\n",
      "98 431\n",
      "99 432\n"
     ]
    }
   ],
   "source": [
    "i = 0\n",
    "for data in datas:\n",
    "    \n",
    "    print(i, data)\n",
    "    i = i + 1"
   ]
  },
  {
   "cell_type": "markdown",
   "id": "international-alaska",
   "metadata": {},
   "source": [
    "# 関数"
   ]
  },
  {
   "cell_type": "code",
   "execution_count": 22,
   "id": "amber-worker",
   "metadata": {},
   "outputs": [
    {
     "name": "stdout",
     "output_type": "stream",
     "text": [
      "冷風を送る\n",
      "涼しいかい\n"
     ]
    }
   ],
   "source": [
    "def cool():\n",
    "    print('冷風を送る')\n",
    "    print('涼しいかい')\n",
    "\n",
    "cool()"
   ]
  },
  {
   "cell_type": "code",
   "execution_count": 23,
   "id": "fifty-socket",
   "metadata": {},
   "outputs": [
    {
     "ename": "NameError",
     "evalue": "name 'cool_1' is not defined",
     "output_type": "error",
     "traceback": [
      "\u001b[1;31m---------------------------------------------------------------------------\u001b[0m",
      "\u001b[1;31mNameError\u001b[0m                                 Traceback (most recent call last)",
      "\u001b[1;32m<ipython-input-23-a85d65a4996a>\u001b[0m in \u001b[0;36m<module>\u001b[1;34m\u001b[0m\n\u001b[1;32m----> 1\u001b[1;33m \u001b[0mcool_1\u001b[0m\u001b[1;33m(\u001b[0m\u001b[1;33m)\u001b[0m\u001b[1;33m\u001b[0m\u001b[1;33m\u001b[0m\u001b[0m\n\u001b[0m\u001b[0;32m      2\u001b[0m \u001b[1;33m\u001b[0m\u001b[0m\n\u001b[0;32m      3\u001b[0m \u001b[1;32mdef\u001b[0m \u001b[0mcool_1\u001b[0m\u001b[1;33m(\u001b[0m\u001b[1;33m)\u001b[0m\u001b[1;33m:\u001b[0m\u001b[1;33m\u001b[0m\u001b[1;33m\u001b[0m\u001b[0m\n\u001b[0;32m      4\u001b[0m     \u001b[0mprint\u001b[0m\u001b[1;33m(\u001b[0m\u001b[1;34m'冷風を送る'\u001b[0m\u001b[1;33m)\u001b[0m\u001b[1;33m\u001b[0m\u001b[1;33m\u001b[0m\u001b[0m\n\u001b[0;32m      5\u001b[0m     \u001b[0mprint\u001b[0m\u001b[1;33m(\u001b[0m\u001b[1;34m'涼しいかい'\u001b[0m\u001b[1;33m)\u001b[0m\u001b[1;33m\u001b[0m\u001b[1;33m\u001b[0m\u001b[0m\n",
      "\u001b[1;31mNameError\u001b[0m: name 'cool_1' is not defined"
     ]
    }
   ],
   "source": [
    "cool_1()\n",
    "\n",
    "def cool_1():\n",
    "    print('冷風を送る')\n",
    "    print('涼しいかい')"
   ]
  },
  {
   "cell_type": "markdown",
   "id": "static-payment",
   "metadata": {},
   "source": [
    "# 関数の中でif文を使う"
   ]
  },
  {
   "cell_type": "code",
   "execution_count": 27,
   "id": "active-officer",
   "metadata": {},
   "outputs": [
    {
     "name": "stdout",
     "output_type": "stream",
     "text": [
      "温度は20℃ではありません\n"
     ]
    }
   ],
   "source": [
    "temp = 100\n",
    "\n",
    "def cool_2():\n",
    "    if temp == 20:\n",
    "        print(f'温度は{temp}℃です')\n",
    "        print('涼しいかい')\n",
    "    else:\n",
    "        print(f'温度は20℃ではありません')\n",
    "\n",
    "#関数を呼び出す\n",
    "cool_2()"
   ]
  },
  {
   "cell_type": "markdown",
   "id": "ranking-dressing",
   "metadata": {},
   "source": [
    "# 引数を入れる"
   ]
  },
  {
   "cell_type": "code",
   "execution_count": 29,
   "id": "realistic-stress",
   "metadata": {},
   "outputs": [
    {
     "data": {
      "text/plain": [
       "0.8414709848078965"
      ]
     },
     "execution_count": 29,
     "metadata": {},
     "output_type": "execute_result"
    }
   ],
   "source": [
    "import math\n",
    "\n",
    "math.sin(1)"
   ]
  },
  {
   "cell_type": "code",
   "execution_count": 30,
   "id": "amended-transmission",
   "metadata": {},
   "outputs": [
    {
     "data": {
      "text/plain": [
       "3.141592653589793"
      ]
     },
     "execution_count": 30,
     "metadata": {},
     "output_type": "execute_result"
    }
   ],
   "source": [
    "math.pi"
   ]
  },
  {
   "cell_type": "code",
   "execution_count": 55,
   "id": "suspended-rider",
   "metadata": {},
   "outputs": [],
   "source": [
    "import math\n",
    "\n",
    "def calc(r):\n",
    "    L = 2*math.pi*r\n",
    "    area = math.pi*r**2\n",
    "    \n",
    "    return L ,area"
   ]
  },
  {
   "cell_type": "code",
   "execution_count": 56,
   "id": "transparent-margin",
   "metadata": {},
   "outputs": [
    {
     "data": {
      "text/plain": [
       "(314.1592653589793, 7853.981633974483)"
      ]
     },
     "execution_count": 56,
     "metadata": {},
     "output_type": "execute_result"
    }
   ],
   "source": [
    "result = calc(50)\n",
    "\n",
    "result"
   ]
  },
  {
   "cell_type": "code",
   "execution_count": 63,
   "id": "medieval-waste",
   "metadata": {},
   "outputs": [
    {
     "name": "stdout",
     "output_type": "stream",
     "text": [
      "416.6666666666667\n",
      "416.6666666666667\n"
     ]
    }
   ],
   "source": [
    "t = 1.2\n",
    "\n",
    "def calc(dia, press):\n",
    "    sigma_theta = (press * dia)/(2.0 *t)\n",
    "    \n",
    "    return sigma_theta\n",
    "\n",
    "print(calc(10, 100))\n",
    "print(calc(10, 100))"
   ]
  },
  {
   "cell_type": "markdown",
   "id": "honest-chocolate",
   "metadata": {},
   "source": [
    "calc(dia, press) = (press * dia)/(2.0 *t)"
   ]
  },
  {
   "cell_type": "markdown",
   "id": "prepared-viking",
   "metadata": {},
   "source": [
    "f(x, y) = (x * y)/(2.0 *1.2)"
   ]
  },
  {
   "cell_type": "code",
   "execution_count": 62,
   "id": "yellow-stomach",
   "metadata": {},
   "outputs": [
    {
     "data": {
      "text/plain": [
       "(1, 2)"
      ]
     },
     "execution_count": 62,
     "metadata": {},
     "output_type": "execute_result"
    }
   ],
   "source": [
    "a = 1\n",
    "b = 2\n",
    "\n",
    "a, b"
   ]
  },
  {
   "cell_type": "code",
   "execution_count": 65,
   "id": "framed-aruba",
   "metadata": {},
   "outputs": [
    {
     "name": "stdout",
     "output_type": "stream",
     "text": [
      "1月\n",
      "2月\n",
      "3月\n",
      "4月\n",
      "5月\n"
     ]
    }
   ],
   "source": [
    "def n_month(*args):\n",
    "    for i in args:\n",
    "        print(str(i) + '月')\n",
    "\n",
    "n_month(1, 2, 3, 4, 5)"
   ]
  },
  {
   "cell_type": "code",
   "execution_count": 68,
   "id": "excellent-passion",
   "metadata": {},
   "outputs": [
    {
     "name": "stdout",
     "output_type": "stream",
     "text": [
      "(1, 2, 3, 4, 8) <class 'tuple'>\n"
     ]
    }
   ],
   "source": [
    "def n_month(*args):\n",
    "    print(args, type(args))\n",
    "\n",
    "n_month(1, 2, 3, 4, 8)"
   ]
  },
  {
   "cell_type": "code",
   "execution_count": 69,
   "id": "discrete-butter",
   "metadata": {},
   "outputs": [
    {
     "name": "stdout",
     "output_type": "stream",
     "text": [
      "(1, 2, 50, 4, 8) <class 'tuple'>\n"
     ]
    }
   ],
   "source": [
    "def n_month(*args):\n",
    "    print(args, type(args))\n",
    "\n",
    "n_month(1, 2, 50, 4, 8)"
   ]
  },
  {
   "cell_type": "code",
   "execution_count": 70,
   "id": "analyzed-knight",
   "metadata": {},
   "outputs": [
    {
     "name": "stdout",
     "output_type": "stream",
     "text": [
      "(1, 3, 4, 5, 6) <class 'tuple'>\n"
     ]
    }
   ],
   "source": [
    "def n_month(*args):\n",
    "    print(args, type(args))\n",
    "        \n",
    "n_month(1,3,4,5,6)"
   ]
  },
  {
   "cell_type": "code",
   "execution_count": 71,
   "id": "appointed-chosen",
   "metadata": {},
   "outputs": [
    {
     "data": {
      "text/plain": [
       "tuple"
      ]
     },
     "execution_count": 71,
     "metadata": {},
     "output_type": "execute_result"
    }
   ],
   "source": [
    "a = (1,3,54,6)\n",
    "\n",
    "type(a)"
   ]
  },
  {
   "cell_type": "markdown",
   "id": "personalized-handle",
   "metadata": {},
   "source": [
    "---------------------------------------------------------------------------\n",
    "TypeError                                 Traceback (most recent call last)\n",
    "<ipython-input-56-1dea023f2342> in <module>\n",
    "      2     print(args, type(args))\n",
    "      3 \n",
    "----> 4 n_month(1,3,4,5,6)\n",
    "\n",
    "<ipython-input-56-1dea023f2342> in n_month(*args)\n",
    "      1 def n_month(*args):\n",
    "----> 2     print(args, type(args))\n",
    "      3 \n",
    "      4 n_month(1,3,4,5,6)\n",
    "\n",
    "TypeError: 'tuple' object is not callable"
   ]
  },
  {
   "cell_type": "code",
   "execution_count": 73,
   "id": "invalid-current",
   "metadata": {},
   "outputs": [
    {
     "name": "stdout",
     "output_type": "stream",
     "text": [
      "{'J': '1', 'F': '2', 'M': '3'} <class 'dict'>\n"
     ]
    }
   ],
   "source": [
    "def n_month(**kwargs):\n",
    "    print(kwargs, type(kwargs))\n",
    "    \n",
    "n_month(J='1', F='2', M='3')"
   ]
  },
  {
   "cell_type": "code",
   "execution_count": 74,
   "id": "sharp-developer",
   "metadata": {},
   "outputs": [
    {
     "name": "stdout",
     "output_type": "stream",
     "text": [
      "<class 'dict'>\n"
     ]
    }
   ],
   "source": [
    "a = {'J':1}\n",
    "print(type(a))"
   ]
  },
  {
   "cell_type": "code",
   "execution_count": 1,
   "id": "metallic-doctrine",
   "metadata": {},
   "outputs": [
    {
     "data": {
      "text/plain": [
       "3.141592653589793"
      ]
     },
     "execution_count": 1,
     "metadata": {},
     "output_type": "execute_result"
    }
   ],
   "source": [
    "import math\n",
    "\n",
    "math.pi"
   ]
  },
  {
   "cell_type": "code",
   "execution_count": 2,
   "id": "banned-attraction",
   "metadata": {},
   "outputs": [
    {
     "data": {
      "text/plain": [
       "(628.3185307179587, 31415.926535897932)"
      ]
     },
     "execution_count": 2,
     "metadata": {},
     "output_type": "execute_result"
    }
   ],
   "source": [
    "def calc(r):\n",
    "    # 円周の計算\n",
    "    L = 2 *math.pi * r\n",
    "    \n",
    "    # 円の面積\n",
    "    area = math.pi * r**2\n",
    "    \n",
    "    return L ,area\n",
    "\n",
    "calc(100)"
   ]
  },
  {
   "cell_type": "code",
   "execution_count": 3,
   "id": "monetary-excuse",
   "metadata": {},
   "outputs": [
    {
     "data": {
      "text/plain": [
       "(6283.185307179587, 314159.26535897935)"
      ]
     },
     "execution_count": 3,
     "metadata": {},
     "output_type": "execute_result"
    }
   ],
   "source": [
    "def calc(r, eff):\n",
    "    # 円周の計算\n",
    "    L = 2 *math.pi * r *eff\n",
    "    \n",
    "    # 円の面積\n",
    "    area = math.pi * r**2 *eff\n",
    "    \n",
    "    return L ,area\n",
    "\n",
    "calc(100, 10)"
   ]
  },
  {
   "cell_type": "markdown",
   "id": "orange-cathedral",
   "metadata": {},
   "source": [
    "# ラムダ式"
   ]
  },
  {
   "cell_type": "code",
   "execution_count": 10,
   "id": "reflected-newsletter",
   "metadata": {},
   "outputs": [
    {
     "name": "stdout",
     "output_type": "stream",
     "text": [
      "20\n"
     ]
    }
   ],
   "source": [
    "# まずは普通の関数\n",
    "\n",
    "def times(a):\n",
    "    return 2*a\n",
    "\n",
    "A = times(10)\n",
    "\n",
    "print(A)"
   ]
  },
  {
   "cell_type": "code",
   "execution_count": 11,
   "id": "proper-seattle",
   "metadata": {},
   "outputs": [
    {
     "name": "stdout",
     "output_type": "stream",
     "text": [
      "20\n"
     ]
    }
   ],
   "source": [
    "A = lambda a : 2*a\n",
    "\n",
    "print(A(10))"
   ]
  },
  {
   "cell_type": "markdown",
   "id": "statistical-yield",
   "metadata": {},
   "source": [
    "## 2つ以上引数を持つこともできる"
   ]
  },
  {
   "cell_type": "code",
   "execution_count": 13,
   "id": "black-three",
   "metadata": {},
   "outputs": [
    {
     "data": {
      "text/plain": [
       "625.0"
      ]
     },
     "execution_count": 13,
     "metadata": {},
     "output_type": "execute_result"
    }
   ],
   "source": [
    "# 普通に関数を使う\n",
    "\n",
    "def calc(dia, press, t):\n",
    "    sigma_theta = press * dia/(4*t)\n",
    "    \n",
    "    return sigma_theta\n",
    "\n",
    "calc(50, 100 ,2)"
   ]
  },
  {
   "cell_type": "code",
   "execution_count": 14,
   "id": "nuclear-brighton",
   "metadata": {},
   "outputs": [
    {
     "data": {
      "text/plain": [
       "625.0"
      ]
     },
     "execution_count": 14,
     "metadata": {},
     "output_type": "execute_result"
    }
   ],
   "source": [
    "# ラムダ式で書く\n",
    "\n",
    "sigma_theta = lambda dia, press, t : press*dia/(4*t)\n",
    "\n",
    "sigma_theta(50, 100, 2)"
   ]
  },
  {
   "cell_type": "markdown",
   "id": "unlike-reading",
   "metadata": {},
   "source": [
    "下記をsigma_thetaに置いている\n",
    "\n",
    "```python\n",
    "(lambda dia, press, t : press*dia/(4*t))(50, 100, 2)\n",
    "```"
   ]
  },
  {
   "cell_type": "markdown",
   "id": "accompanied-eclipse",
   "metadata": {},
   "source": [
    "# filter関数をラムダ式で書く"
   ]
  },
  {
   "cell_type": "code",
   "execution_count": 23,
   "id": "optional-private",
   "metadata": {},
   "outputs": [
    {
     "data": {
      "text/plain": [
       "[0, 1, 2, 3, 4, 5, 6, 7, 8, 9, 10, 11, 12, 13, 14, 15, 16, 17, 18, 19]"
      ]
     },
     "execution_count": 23,
     "metadata": {},
     "output_type": "execute_result"
    }
   ],
   "source": [
    "sample_list = list(range(20))\n",
    "\n",
    "sample_list"
   ]
  },
  {
   "cell_type": "code",
   "execution_count": 27,
   "id": "refined-circular",
   "metadata": {},
   "outputs": [
    {
     "data": {
      "text/plain": [
       "[0, 2, 4, 6, 8, 10, 12, 14, 16, 18]"
      ]
     },
     "execution_count": 27,
     "metadata": {},
     "output_type": "execute_result"
    }
   ],
   "source": [
    "def odds(x):\n",
    "    return x % 2 == 0\n",
    "\n",
    "list(filter(odds, sample_list))"
   ]
  },
  {
   "cell_type": "code",
   "execution_count": 30,
   "id": "neutral-creator",
   "metadata": {},
   "outputs": [
    {
     "data": {
      "text/plain": [
       "['あ', 'あ', 'あ', 'あ', 'あ', 'あ', 'あ', 'あ', 'あ', 'あ', 'あ']"
      ]
     },
     "execution_count": 30,
     "metadata": {},
     "output_type": "execute_result"
    }
   ],
   "source": [
    "moji = 'あいうえおあいうえあおああああががああがああが'\n",
    "\n",
    "def a_func(x):\n",
    "    return x == 'あ'\n",
    "\n",
    "list(filter(a_func, moji))"
   ]
  },
  {
   "cell_type": "code",
   "execution_count": 34,
   "id": "contained-uzbekistan",
   "metadata": {},
   "outputs": [
    {
     "name": "stdout",
     "output_type": "stream",
     "text": [
      "あ\n",
      "あ\n",
      "あ\n",
      "あ\n",
      "あ\n",
      "あ\n",
      "あ\n",
      "あ\n",
      "あ\n",
      "あ\n",
      "あ\n"
     ]
    }
   ],
   "source": [
    "def a_func1(aaaaa):\n",
    "    for i in aaaaa:\n",
    "        if i == 'あ':\n",
    "            print(i)\n",
    "        \n",
    "a_func1(moji)"
   ]
  },
  {
   "cell_type": "code",
   "execution_count": 40,
   "id": "impressive-local",
   "metadata": {},
   "outputs": [
    {
     "data": {
      "text/plain": [
       "[0, 10, 20, 30, 40, 50, 60, 70, 80, 90]"
      ]
     },
     "execution_count": 40,
     "metadata": {},
     "output_type": "execute_result"
    }
   ],
   "source": [
    "# ラムダ式を使う\n",
    "\n",
    "sample_list = list(range(100))\n",
    "\n",
    "list(filter(lambda x: x%10 == 0, sample_list))"
   ]
  },
  {
   "cell_type": "code",
   "execution_count": 41,
   "id": "sealed-ranch",
   "metadata": {},
   "outputs": [
    {
     "name": "stdout",
     "output_type": "stream",
     "text": [
      "10\n"
     ]
    }
   ],
   "source": [
    "print(10)"
   ]
  },
  {
   "cell_type": "markdown",
   "id": "failing-france",
   "metadata": {},
   "source": [
    "# クラス"
   ]
  },
  {
   "cell_type": "code",
   "execution_count": 45,
   "id": "ethical-battlefield",
   "metadata": {},
   "outputs": [
    {
     "data": {
      "text/plain": [
       "'クラスを呼び出した'"
      ]
     },
     "execution_count": 45,
     "metadata": {},
     "output_type": "execute_result"
    }
   ],
   "source": [
    "#1 クラスを定義する\n",
    "class MyClass:\n",
    "    # 処理を書く\n",
    "    def method(self):\n",
    "        return 'クラスを呼び出した'\n",
    "    \n",
    "#2 クラスのインスタンス化（クラスの実体を作る）\n",
    "x = MyClass()\n",
    "\n",
    "#3 インスタンス化したものからメソッドを呼び出す\n",
    "x.method()"
   ]
  },
  {
   "cell_type": "code",
   "execution_count": 49,
   "id": "necessary-swing",
   "metadata": {},
   "outputs": [
    {
     "data": {
      "text/plain": [
       "3.141592653589793"
      ]
     },
     "execution_count": 49,
     "metadata": {},
     "output_type": "execute_result"
    }
   ],
   "source": [
    "class math_func:\n",
    "    test_pi = math.atan(1) *4 #πになる\n",
    "    \n",
    "math_func_instance = math_func()\n",
    "\n",
    "math_func_instance.test_pi"
   ]
  },
  {
   "cell_type": "code",
   "execution_count": 50,
   "id": "still-rebel",
   "metadata": {},
   "outputs": [
    {
     "data": {
      "text/plain": [
       "3.141592653589793"
      ]
     },
     "execution_count": 50,
     "metadata": {},
     "output_type": "execute_result"
    }
   ],
   "source": [
    "math.pi"
   ]
  },
  {
   "cell_type": "markdown",
   "id": "empirical-heading",
   "metadata": {},
   "source": [
    "# クラスの中の関数に引数を入れる"
   ]
  },
  {
   "cell_type": "code",
   "execution_count": 52,
   "id": "interesting-judge",
   "metadata": {},
   "outputs": [
    {
     "data": {
      "text/plain": [
       "30"
      ]
     },
     "execution_count": 52,
     "metadata": {},
     "output_type": "execute_result"
    }
   ],
   "source": [
    "class Aclass:\n",
    "    # メソッド\n",
    "    def name_function(self, x, y):\n",
    "        return x + y\n",
    "    \n",
    "kamakiri_instance = Aclass()\n",
    "\n",
    "kamakiri_instance.name_function(10, 20)"
   ]
  },
  {
   "cell_type": "markdown",
   "id": "painful-batman",
   "metadata": {},
   "source": [
    "# クラスの中に初期設定を書く"
   ]
  },
  {
   "cell_type": "code",
   "execution_count": 69,
   "id": "appreciated-operation",
   "metadata": {},
   "outputs": [
    {
     "data": {
      "text/plain": [
       "60"
      ]
     },
     "execution_count": 69,
     "metadata": {},
     "output_type": "execute_result"
    }
   ],
   "source": [
    "name = 'gagagagagaga'\n",
    "\n",
    "class kamakiri:\n",
    "    name = 'kamakiri'\n",
    "    \n",
    "    def __init__(self, a, b, c):\n",
    "        self.name1 = a\n",
    "        self.name2 = b\n",
    "        self.name3 = c\n",
    "    \n",
    "    def name_function(self):\n",
    "        return self.name + '---- Hello World', name\n",
    "    \n",
    "    def sum_function(self):\n",
    "        return self.name1 + self.name2 + self.name3 \n",
    "        \n",
    "kamakiri_instance = kamakiri(10, 20, 30)\n",
    "\n",
    "kamakiri_instance.name_function()\n",
    "\n",
    "kamakiri_instance.sum_function()"
   ]
  },
  {
   "cell_type": "markdown",
   "id": "democratic-regular",
   "metadata": {},
   "source": [
    "# クラスの復習"
   ]
  },
  {
   "cell_type": "code",
   "execution_count": 4,
   "id": "derived-taxation",
   "metadata": {},
   "outputs": [],
   "source": [
    "name = 'global変数'\n",
    "\n",
    "class kamakiri:\n",
    "    name = 'kamakiri' #変数の定義\n",
    "    \n",
    "    def __init__(self, a, b, c ):\n",
    "        self.name1 = a\n",
    "        self.name2 = b\n",
    "        self.name3 = c\n",
    "        print('インスタンス化した時点で実行された')\n",
    "        print(self.name1, self.name2, self.name3)\n",
    "        \n",
    "    def name_function(self):\n",
    "        return self.name + '--------' + name\n",
    "    \n",
    "    def  sum_fnction(self):\n",
    "        return self.name1 + self.name2 + self.name3"
   ]
  },
  {
   "cell_type": "code",
   "execution_count": 5,
   "id": "piano-plymouth",
   "metadata": {},
   "outputs": [
    {
     "name": "stdout",
     "output_type": "stream",
     "text": [
      "インスタンス化した時点で実行された\n",
      "20 30 80\n"
     ]
    }
   ],
   "source": [
    "# クラスのインスタンス化\n",
    "kamakiri_instance = kamakiri(20, 30, 80)"
   ]
  },
  {
   "cell_type": "code",
   "execution_count": 6,
   "id": "protective-gothic",
   "metadata": {},
   "outputs": [
    {
     "data": {
      "text/plain": [
       "'kamakiri--------global変数'"
      ]
     },
     "execution_count": 6,
     "metadata": {},
     "output_type": "execute_result"
    }
   ],
   "source": [
    "kamakiri_instance.name_function()"
   ]
  },
  {
   "cell_type": "code",
   "execution_count": 7,
   "id": "brief-battlefield",
   "metadata": {},
   "outputs": [
    {
     "data": {
      "text/plain": [
       "130"
      ]
     },
     "execution_count": 7,
     "metadata": {},
     "output_type": "execute_result"
    }
   ],
   "source": [
    "kamakiri_instance.sum_fnction()"
   ]
  },
  {
   "cell_type": "code",
   "execution_count": 8,
   "id": "rocky-society",
   "metadata": {},
   "outputs": [
    {
     "data": {
      "text/plain": [
       "'kamakiri'"
      ]
     },
     "execution_count": 8,
     "metadata": {},
     "output_type": "execute_result"
    }
   ],
   "source": [
    "kamakiri_instance.name"
   ]
  },
  {
   "cell_type": "code",
   "execution_count": 9,
   "id": "another-apollo",
   "metadata": {},
   "outputs": [
    {
     "name": "stdout",
     "output_type": "stream",
     "text": [
      "インスタンス化した時点で実行された\n",
      "10 10 10\n"
     ]
    }
   ],
   "source": [
    "# クラスのインスタンス化\n",
    "kamakiri_instance______11111 = kamakiri(10, 10, 10)"
   ]
  },
  {
   "cell_type": "code",
   "execution_count": 10,
   "id": "guided-organic",
   "metadata": {},
   "outputs": [
    {
     "data": {
      "text/plain": [
       "2776435382928"
      ]
     },
     "execution_count": 10,
     "metadata": {},
     "output_type": "execute_result"
    }
   ],
   "source": [
    "id(kamakiri_instance)"
   ]
  },
  {
   "cell_type": "code",
   "execution_count": 11,
   "id": "toxic-software",
   "metadata": {},
   "outputs": [
    {
     "data": {
      "text/plain": [
       "2776428813424"
      ]
     },
     "execution_count": 11,
     "metadata": {},
     "output_type": "execute_result"
    }
   ],
   "source": [
    "id(kamakiri_instance______11111)"
   ]
  },
  {
   "cell_type": "markdown",
   "id": "raised-legislation",
   "metadata": {},
   "source": [
    "# クラスの継承"
   ]
  },
  {
   "cell_type": "code",
   "execution_count": 13,
   "id": "sudden-award",
   "metadata": {},
   "outputs": [],
   "source": [
    "#親のクラス\n",
    "class kamakiri():\n",
    "    kamakiri_num = 4\n",
    "    \n",
    "    def run(self):\n",
    "        print('走る')\n",
    "        \n",
    "    def eat(self):\n",
    "        print('食べる')\n",
    "    \n",
    "    def get_kamakiri(self):\n",
    "        print(self.kamakiri_num)"
   ]
  },
  {
   "cell_type": "code",
   "execution_count": 15,
   "id": "chinese-advancement",
   "metadata": {},
   "outputs": [],
   "source": [
    "# クラスの継承（子クラス）\n",
    "class kamakiriClass(kamakiri): #親のクラスを引き継ぐ\n",
    "    def __init__(self):\n",
    "        print('カマキリです')"
   ]
  },
  {
   "cell_type": "code",
   "execution_count": 16,
   "id": "incoming-antibody",
   "metadata": {},
   "outputs": [
    {
     "name": "stdout",
     "output_type": "stream",
     "text": [
      "カマキリです\n"
     ]
    }
   ],
   "source": [
    "# クラスのインスタンス化\n",
    "kamakiri_pro = kamakiriClass()"
   ]
  },
  {
   "cell_type": "code",
   "execution_count": 18,
   "id": "champion-philip",
   "metadata": {},
   "outputs": [
    {
     "name": "stdout",
     "output_type": "stream",
     "text": [
      "走る\n"
     ]
    }
   ],
   "source": [
    "kamakiri_pro.run()"
   ]
  },
  {
   "cell_type": "code",
   "execution_count": 19,
   "id": "responsible-plant",
   "metadata": {},
   "outputs": [
    {
     "name": "stdout",
     "output_type": "stream",
     "text": [
      "食べる\n"
     ]
    }
   ],
   "source": [
    "kamakiri_pro.eat()"
   ]
  },
  {
   "cell_type": "code",
   "execution_count": 20,
   "id": "interracial-theme",
   "metadata": {},
   "outputs": [
    {
     "name": "stdout",
     "output_type": "stream",
     "text": [
      "4\n"
     ]
    }
   ],
   "source": [
    "kamakiri_pro.get_kamakiri()"
   ]
  },
  {
   "cell_type": "markdown",
   "id": "distinguished-boutique",
   "metadata": {},
   "source": [
    "# オーバーライド"
   ]
  },
  {
   "cell_type": "code",
   "execution_count": 21,
   "id": "british-monday",
   "metadata": {},
   "outputs": [],
   "source": [
    "#親のクラス\n",
    "class kamakiri():\n",
    "    kamakiri_num = 4\n",
    "    \n",
    "    def run(self):\n",
    "        print('走る')\n",
    "        \n",
    "    def eat(self):\n",
    "        print('食べる')\n",
    "    \n",
    "    def get_kamakiri(self):\n",
    "        print(self.kamakiri_num)"
   ]
  },
  {
   "cell_type": "code",
   "execution_count": 22,
   "id": "dominican-gasoline",
   "metadata": {},
   "outputs": [],
   "source": [
    "# クラスの継承（子クラス）\n",
    "class kamakiriClass(kamakiri): #親のクラスを引き継ぐ\n",
    "    def __init__(self):\n",
    "        print('カマキリです')\n",
    "        \n",
    "    def eat(self):\n",
    "        print('子クラスのメソッドが呼び出された')"
   ]
  },
  {
   "cell_type": "code",
   "execution_count": 23,
   "id": "indirect-lindsay",
   "metadata": {},
   "outputs": [
    {
     "name": "stdout",
     "output_type": "stream",
     "text": [
      "カマキリです\n"
     ]
    }
   ],
   "source": [
    "# クラスのインスタンス化\n",
    "kamakiri_pro = kamakiriClass()"
   ]
  },
  {
   "cell_type": "code",
   "execution_count": 24,
   "id": "sunset-hormone",
   "metadata": {},
   "outputs": [
    {
     "name": "stdout",
     "output_type": "stream",
     "text": [
      "子クラスのメソッドが呼び出された\n"
     ]
    }
   ],
   "source": [
    "kamakiri_pro.eat()"
   ]
  },
  {
   "cell_type": "code",
   "execution_count": null,
   "id": "smooth-klein",
   "metadata": {},
   "outputs": [],
   "source": []
  }
 ],
 "metadata": {
  "kernelspec": {
   "display_name": "Python 3",
   "language": "python",
   "name": "python3"
  },
  "language_info": {
   "codemirror_mode": {
    "name": "ipython",
    "version": 3
   },
   "file_extension": ".py",
   "mimetype": "text/x-python",
   "name": "python",
   "nbconvert_exporter": "python",
   "pygments_lexer": "ipython3",
   "version": "3.8.5"
  }
 },
 "nbformat": 4,
 "nbformat_minor": 5
}
